{
 "cells": [
  {
   "cell_type": "markdown",
   "metadata": {
    "deletable": false,
    "editable": false,
    "nbgrader": {
     "checksum": "48770f8b5f5d3062d3badd51fcafc401",
     "grade": false,
     "grade_id": "cell-a6c4f74309fc2379",
     "locked": true,
     "schema_version": 1,
     "solution": false
    }
   },
   "source": [
    "# Assignment 4\n",
    "## Description\n",
    "In this assignment you must read in a file of metropolitan regions and associated sports teams from [assets/wikipedia_data.html](assets/wikipedia_data.html) and answer some questions about each metropolitan region. Each of these regions may have one or more teams from the \"Big 4\": NFL (football, in [assets/nfl.csv](assets/nfl.csv)), MLB (baseball, in [assets/mlb.csv](assets/mlb.csv)), NBA (basketball, in [assets/nba.csv](assets/nba.csv) or NHL (hockey, in [assets/nhl.csv](assets/nhl.csv)). Please keep in mind that all questions are from the perspective of the metropolitan region, and that this file is the \"source of authority\" for the location of a given sports team. Thus teams which are commonly known by a different area (e.g. \"Oakland Raiders\") need to be mapped into the metropolitan region given (e.g. San Francisco Bay Area). This will require some human data understanding outside of the data you've been given (e.g. you will have to hand-code some names, and might need to google to find out where teams are)!\n",
    "\n",
    "For each sport I would like you to answer the question: **what is the win/loss ratio's correlation with the population of the city it is in?** Win/Loss ratio refers to the number of wins over the number of wins plus the number of losses. Remember that to calculate the correlation with [`pearsonr`](https://docs.scipy.org/doc/scipy/reference/generated/scipy.stats.pearsonr.html), so you are going to send in two ordered lists of values, the populations from the wikipedia_data.html file and the win/loss ratio for a given sport in the same order. Average the win/loss ratios for those cities which have multiple teams of a single sport. Each sport is worth an equal amount in this assignment (20%\\*4=80%) of the grade for this assignment. You should only use data **from year 2018** for your analysis -- this is important!\n",
    "\n",
    "## Notes\n",
    "\n",
    "1. Do not include data about the MLS or CFL in any of the work you are doing, we're only interested in the Big 4 in this assignment.\n",
    "2. I highly suggest that you first tackle the four correlation questions in order, as they are all similar and worth the majority of grades for this assignment. This is by design!\n",
    "3. It's fair game to talk with peers about high level strategy as well as the relationship between metropolitan areas and sports teams. However, do not post code solving aspects of the assignment (including such as dictionaries mapping areas to teams, or regexes which will clean up names).\n",
    "4. There may be more teams than the assert statements test, remember to collapse multiple teams in one city into a single value!"
   ]
  },
  {
   "cell_type": "markdown",
   "metadata": {
    "deletable": false,
    "editable": false,
    "nbgrader": {
     "checksum": "369ff9ecf0ee04640574205cbc697f94",
     "grade": false,
     "grade_id": "cell-712b2b5da63d4505",
     "locked": true,
     "schema_version": 1,
     "solution": false
    }
   },
   "source": [
    "## Question 1\n",
    "For this question, calculate the win/loss ratio's correlation with the population of the city it is in for the **NHL** using **2018** data."
   ]
  },
  {
   "cell_type": "code",
   "execution_count": 345,
   "metadata": {
    "deletable": false,
    "nbgrader": {
     "checksum": "1cac4803b02502929f5b1612d48db2b5",
     "grade": false,
     "grade_id": "cell-69b16e4386e58030",
     "locked": false,
     "schema_version": 1,
     "solution": true
    }
   },
   "outputs": [
    {
     "data": {
      "text/plain": [
       "(0.012486162921209923, 0.9497182859911781)"
      ]
     },
     "execution_count": 345,
     "metadata": {},
     "output_type": "execute_result"
    }
   ],
   "source": [
    "from ast import Lambda\n",
    "from ctypes.wintypes import FLOAT\n",
    "from matplotlib.axis import Axis\n",
    "import pandas as pd\n",
    "import numpy as np\n",
    "import scipy.stats as stats\n",
    "import re\n",
    "\n",
    "def clean_data_nhl():\n",
    "    nhl_df=pd.read_csv(\"assets/nhl.csv\")\n",
    "    cities=pd.read_html(\"assets/wikipedia_data.html\")[1]\n",
    "    cities=cities.iloc[:-1,[0,3,5,6,7,8]]\n",
    "\n",
    "    #get 2018 data\n",
    "    nhl_df = nhl_df.loc[nhl_df['year'] == 2018]\n",
    "\n",
    "    #Remove division header\n",
    "    nhl_df.drop([0,9,18,26], axis=0, inplace=True)\n",
    "\n",
    "    # get relevant columns\n",
    "    nhl_df = nhl_df.filter(['team', 'W', 'L', 'year'])\n",
    "\n",
    "    #Clean team names\n",
    "    nhl_df['team'] = nhl_df['team'].apply(lambda x: re.sub(r\"\\*\", \"\", x))\n",
    "\n",
    "    cities['NHL'] = cities['NHL'].apply(lambda x: re.sub(r\"\\[.*\\]\", \"\",x))\n",
    "\n",
    "    # Seprarate the name of the different teams merged together\n",
    "    cities[\"NHL\"] = cities[\"NHL\"].replace({\"RangersIslandersDevils\": \"Rangers Islanders Devils\",\n",
    "                                        \"KingsDucks\": \"Kings Ducks\",\n",
    "                                        \"Blue Jackets\": \"Blue-Jackets\",\n",
    "                                        \"Maple Leafs\": \"Maple-Leafs\",\n",
    "                                        \"Golden Knights\": \"Golden-Knights\",\n",
    "                                        \"Red Wings\": \"Red-Wings\"\n",
    "                                                        })\n",
    "    cities[\"NHL\"] = cities[\"NHL\"].apply(lambda x: x.split(\" \"))\n",
    "    cities = cities.explode(\"NHL\")\n",
    "    cities = cities.filter(['Metropolitan area', 'Population (2016 est.)[8]', 'NHL'])\n",
    "\n",
    "\n",
    "\n",
    "    nhl_df[\"team\"] = nhl_df[\"team\"].replace({\"Toronto Maple Leafs\": \"Toronto Maple-Leafs\",\n",
    "                                        \"Detroit Red Wings\": \"Detroit Red-Wings\",\n",
    "                                        \"Columbus Blue Jackets\": \"Columbus Blue-Jackets\",\n",
    "                                        \"Vegas Golden Knights\": \"Vegas Golden-Knights\"\n",
    "                                                        })\n",
    "    \n",
    "    nhl_df[\"team\"] = nhl_df[\"team\"].apply(lambda x: x.split(\" \")[-1])\n",
    "\n",
    "    df = pd.merge(cities, nhl_df, left_on=\"NHL\", right_on=\"team\")\n",
    "    df.drop(['team', 'NHL', 'year'], axis=1, inplace=True)\n",
    "\n",
    "    df['W/L%'] = df['W'].astype(float) / (df['W'].astype(float) + df['L'].astype(float))\n",
    "   \n",
    "    df2 = df.groupby(['Metropolitan area']).mean()\n",
    "    df1 = df.drop_duplicates(['Metropolitan area']).reset_index(drop=True)\n",
    "\n",
    "\n",
    "    df1.drop('W/L%', axis=1 , inplace = True)\n",
    "    df3 = pd.merge(df2, df1, on='Metropolitan area')\n",
    "\n",
    "    df3 = df3.filter(['Metropolitan area', 'Population (2016 est.)[8]', 'W/L%' ])\n",
    "\n",
    "    return df3\n",
    "    \n",
    "\n",
    "def nhl_correlation(): \n",
    "    # YOUR CODE HERE    \n",
    "    #raise NotImplementedError()\n",
    "    df = clean_data_nhl()\n",
    "    population_by_region = df[\"Population (2016 est.)[8]\"].astype(float) # pass in metropolitan area population from cities\n",
    "    win_loss_by_region = df[\"W/L%\"] # pass in win/loss ratio from nhl_df in the same order as cities[\"Metropolitan area\"]\n",
    "\n",
    "    assert len(population_by_region) == len(win_loss_by_region), \"Q1: Your lists must be the same length\"\n",
    "    assert len(population_by_region) == 28, \"Q1: There should be 28 teams being analysed for NHL\"\n",
    "    \n",
    "    return stats.pearsonr(population_by_region, win_loss_by_region)\n",
    "\n",
    "nhl_correlation()"
   ]
  },
  {
   "cell_type": "code",
   "execution_count": null,
   "metadata": {
    "deletable": false,
    "editable": false,
    "nbgrader": {
     "checksum": "52a581df513c71153e105b93764cda4b",
     "grade": true,
     "grade_id": "cell-ebe0b2dfe1067e63",
     "locked": true,
     "points": 20,
     "schema_version": 1,
     "solution": false
    }
   },
   "outputs": [],
   "source": []
  },
  {
   "cell_type": "markdown",
   "metadata": {
    "deletable": false,
    "editable": false,
    "nbgrader": {
     "checksum": "988912cae4968d81473f46d783e79c16",
     "grade": false,
     "grade_id": "cell-cb964e690298b71d",
     "locked": true,
     "schema_version": 1,
     "solution": false
    }
   },
   "source": [
    "## Question 2\n",
    "For this question, calculate the win/loss ratio's correlation with the population of the city it is in for the **NBA** using **2018** data."
   ]
  },
  {
   "cell_type": "code",
   "execution_count": 287,
   "metadata": {
    "deletable": false,
    "nbgrader": {
     "checksum": "9394222aafc8ccab0a228098ba0d6010",
     "grade": false,
     "grade_id": "cell-5a5f21279e3d3572",
     "locked": false,
     "schema_version": 1,
     "solution": true
    }
   },
   "outputs": [
    {
     "data": {
      "text/plain": [
       "(-0.17636350642182935, 0.36932106185547353)"
      ]
     },
     "execution_count": 287,
     "metadata": {},
     "output_type": "execute_result"
    }
   ],
   "source": [
    "from posixpath import split\n",
    "import pandas as pd\n",
    "import numpy as np\n",
    "import scipy.stats as stats\n",
    "import re\n",
    "\n",
    "def clean_data_nba():\n",
    "    nba_df=pd.read_csv(\"assets/nba.csv\")\n",
    "    cities=pd.read_html(\"assets/wikipedia_data.html\")[1]\n",
    "    cities=cities.iloc[:-1,[0,3,5,6,7,8]]\n",
    "    \n",
    "    nba_df =nba_df.loc[nba_df['year'] == 2018]\n",
    "\n",
    "    # get relevant columns\n",
    "    nba_df = nba_df.filter(['team', 'W/L%'])\n",
    "\n",
    "    nba_df['team'] = nba_df['team'].apply(lambda x: re.sub(r\"\\*?\\s\\(\\d*\\)\", \"\",x))\n",
    "\n",
    "    nba_df['team'] = nba_df['team'].replace({'Portland Trail Blazers' : 'Portland Trail-Blazers'})\n",
    "\n",
    "    nba_df[\"team\"] = nba_df[\"team\"].apply(lambda x: x.split(\" \")[-1])\n",
    "\n",
    "\n",
    "    \n",
    "    \n",
    "    cities = cities.filter(['Metropolitan area', 'Population (2016 est.)[8]', 'NBA'])\n",
    "\n",
    "    cities['NBA'] = cities['NBA'].apply(lambda x: re.sub(r\"\\[.*\\]\", \"\", x))\n",
    "    \n",
    "    cities['NBA'] = cities['NBA'].replace({ \n",
    "                                            'KnicksNets' : 'Knicks Nets',\n",
    "                                            'LakersClippers' : 'Lakers Clippers',\n",
    "                                            'Trail Blazers' : 'Trail-Blazers'\n",
    "    })\n",
    "\n",
    "    cities['NBA'] = cities['NBA'].apply(lambda x: x.split(\" \"))\n",
    "    cities = cities.explode(\"NBA\")\n",
    "\n",
    "\n",
    "    df = pd.merge(cities, nba_df, left_on=\"NBA\", right_on=\"team\")\n",
    "\n",
    "    df.drop(['team', 'NBA'], axis= 1, inplace=True)\n",
    "    \n",
    "    df['W/L%'] = df['W/L%'].astype(float)\n",
    "    \n",
    "    df2 = df.groupby(['Metropolitan area']).mean()\n",
    "    df1 = df.drop_duplicates(['Metropolitan area']).reset_index(drop=True)\n",
    "    df1.drop('W/L%', axis=1 , inplace = True)\n",
    "\n",
    "\n",
    "    df3 = pd.merge(df1 , df2 , on= 'Metropolitan area')\n",
    "\n",
    "    return df3\n",
    "    \n",
    "\n",
    "\n",
    "def nba_correlation():\n",
    "    #YOUR CODE HERE\n",
    "    #    raise NotImplementedError()\n",
    "    df = clean_data_nba()\n",
    "        \n",
    "    population_by_region = df[\"Population (2016 est.)[8]\"].astype(float) # pass in metropolitan area population from cities\n",
    "    win_loss_by_region = df[\"W/L%\"] # pass in win/loss ratio from nba_df in the same order as cities[\"Metropolitan area\"]\n",
    "\n",
    "    assert len(population_by_region) == len(win_loss_by_region), \"Q2: Your lists must be the same length\"\n",
    "    assert len(population_by_region) == 28, \"Q2: There should be 28 teams being analysed for NBA\"\n",
    "\n",
    "    return stats.pearsonr(population_by_region, win_loss_by_region)\n",
    "    \n",
    "nba_correlation()\n"
   ]
  },
  {
   "cell_type": "code",
   "execution_count": null,
   "metadata": {
    "deletable": false,
    "editable": false,
    "nbgrader": {
     "checksum": "bbdeb8eb22f525a34c10dc8798324e42",
     "grade": true,
     "grade_id": "cell-e573b2b4a282b470",
     "locked": true,
     "points": 20,
     "schema_version": 1,
     "solution": false
    }
   },
   "outputs": [],
   "source": []
  },
  {
   "cell_type": "markdown",
   "metadata": {
    "deletable": false,
    "editable": false,
    "nbgrader": {
     "checksum": "1a1a5809f675ca033086422007cd73bd",
     "grade": false,
     "grade_id": "cell-96e15e4335df78f4",
     "locked": true,
     "schema_version": 1,
     "solution": false
    }
   },
   "source": [
    "## Question 3\n",
    "For this question, calculate the win/loss ratio's correlation with the population of the city it is in for the **MLB** using **2018** data."
   ]
  },
  {
   "cell_type": "code",
   "execution_count": 342,
   "metadata": {
    "deletable": false,
    "nbgrader": {
     "checksum": "27e8c0da6c9fa0dffc10488314335b6c",
     "grade": false,
     "grade_id": "cell-33b00fc3f3467b0c",
     "locked": false,
     "schema_version": 1,
     "solution": true
    }
   },
   "outputs": [
    {
     "data": {
      "text/plain": [
       "(0.15003737475409493, 0.46442827201123427)"
      ]
     },
     "execution_count": 342,
     "metadata": {},
     "output_type": "execute_result"
    }
   ],
   "source": [
    "from matplotlib.pyplot import axis\n",
    "import pandas as pd\n",
    "import numpy as np\n",
    "import scipy.stats as stats\n",
    "import re\n",
    "\n",
    "\n",
    "def clean_data_mlb():\n",
    "    mlb_df=pd.read_csv(\"assets/mlb.csv\")\n",
    "    cities=pd.read_html(\"assets/wikipedia_data.html\")[1]\n",
    "    cities=cities.iloc[:-1,[0,3,5,6,7,8]]\n",
    "\n",
    "\n",
    "    mlb_df = mlb_df.loc[mlb_df['year']== 2018]\n",
    "\n",
    "    mlb_df['team'] = mlb_df['team'].replace({\n",
    "                                            'Boston Red Sox' : 'Boston Red-Sox',\n",
    "                                            'Toronto Blue Jays' : 'Toronto Blue-Jays',\n",
    "                                            'Chicago White Sox' : 'Chicago White-Sox'\n",
    "    })\n",
    "\n",
    "    mlb_df = mlb_df.filter(['team', 'W-L%'])\n",
    "\n",
    "    mlb_df['team'] = mlb_df['team'].apply(lambda x: x.split(\" \")[-1])\n",
    "\n",
    "    cities = cities.filter(['Metropolitan area', 'Population (2016 est.)[8]', 'MLB'])\n",
    "\n",
    "    cities['MLB'] = cities['MLB'].apply(lambda x: re.sub(r'\\[.*\\]',\"\", x))\n",
    "\n",
    "    cities['MLB'] = cities['MLB'].replace({\n",
    "                                            'YankeesMets' : 'Yankees Mets',\n",
    "                                            'DodgersAngels' : 'Dodgers Angels', \n",
    "                                            'GiantsAthletics' : 'Giants Athletics',\n",
    "                                            'CubsWhite Sox' : 'Cubs White-Sox',\n",
    "                                            'Red Sox' : 'Red-Sox',\n",
    "                                            'Blue Jays' : 'Blue-Jays'\n",
    "    })\n",
    "\n",
    "    cities['MLB'] = cities['MLB'].apply(lambda x: x.split(\" \"))\n",
    "    cities = cities.explode('MLB')\n",
    "\n",
    "    df = pd.merge(cities , mlb_df , left_on='MLB', right_on= 'team')\n",
    "    \n",
    "    df.drop(['team', 'MLB'], axis = 1 , inplace= True)\n",
    "    df['W-L%'] = df['W-L%'].astype(float)\n",
    "    \n",
    "    df1 = df.groupby(['Metropolitan area']).mean()\n",
    "\n",
    "    df2 = pd.merge( cities , df1 , on= 'Metropolitan area')\n",
    "\n",
    "    df3 = df2.drop_duplicates('Metropolitan area')\n",
    "\n",
    "    df3 = df3.filter(['Metropolitan area', 'Population (2016 est.)[8]', 'W-L%' ])\n",
    "\n",
    "\n",
    "    return df3\n",
    "\n",
    "\n",
    "def mlb_correlation(): \n",
    "    # YOUR CODE HERE\n",
    "#     raise NotImplementedError()\n",
    "    df = clean_data_mlb()\n",
    "\n",
    "    population_by_region = df[\"Population (2016 est.)[8]\"].astype(float) # pass in metropolitan area population from cities\n",
    "    win_loss_by_region = df[\"W-L%\"] # pass in win/loss ratio from mlb_df in the same order as cities[\"Metropolitan area\"]\n",
    "\n",
    "    assert len(population_by_region) == len(win_loss_by_region), \"Q3: Your lists must be the same length\"\n",
    "    assert len(population_by_region) == 26, \"Q3: There should be 26 teams being analysed for MLB\"\n",
    "\n",
    "    result = stats.pearsonr(population_by_region, win_loss_by_region)\n",
    "    \n",
    "    return result\n",
    "\n",
    "mlb_correlation()\n",
    "\n"
   ]
  },
  {
   "cell_type": "code",
   "execution_count": null,
   "metadata": {
    "deletable": false,
    "editable": false,
    "nbgrader": {
     "checksum": "cda33b094ba19ccc37a481e0dd29e0bc",
     "grade": true,
     "grade_id": "cell-764d4476f425c5a2",
     "locked": true,
     "points": 20,
     "schema_version": 1,
     "solution": false
    }
   },
   "outputs": [],
   "source": []
  },
  {
   "cell_type": "markdown",
   "metadata": {
    "deletable": false,
    "editable": false,
    "nbgrader": {
     "checksum": "6977a6da9ed6d8b7a0b7e37bbeda709b",
     "grade": false,
     "grade_id": "cell-793df6c04dfb126e",
     "locked": true,
     "schema_version": 1,
     "solution": false
    }
   },
   "source": [
    "## Question 4\n",
    "For this question, calculate the win/loss ratio's correlation with the population of the city it is in for the **NFL** using **2018** data."
   ]
  },
  {
   "cell_type": "code",
   "execution_count": 289,
   "metadata": {
    "deletable": false,
    "nbgrader": {
     "checksum": "c4914ad1e119278ec2bd567c52640b66",
     "grade": false,
     "grade_id": "cell-8ccebc209aeec8d9",
     "locked": false,
     "schema_version": 1,
     "solution": true
    }
   },
   "outputs": [
    {
     "data": {
      "text/plain": [
       "(0.004282141436393019, 0.9824114740736553)"
      ]
     },
     "execution_count": 289,
     "metadata": {},
     "output_type": "execute_result"
    }
   ],
   "source": [
    "from distutils.command.clean import clean\n",
    "import pandas as pd\n",
    "import numpy as np\n",
    "import scipy.stats as stats\n",
    "import re\n",
    "\n",
    "\n",
    "\n",
    "def clean_data_nfl():\n",
    "    nfl_df=pd.read_csv(\"assets/nfl.csv\")\n",
    "    cities=pd.read_html(\"assets/wikipedia_data.html\")[1]\n",
    "    cities=cities.iloc[:-1,[0,3,5,6,7,8]]\n",
    "    \n",
    "    \n",
    "    nfl_df = nfl_df.loc[nfl_df['year']== 2018]\n",
    "\n",
    "    nfl_df = nfl_df.filter(['team', 'W-L%'])\n",
    "\n",
    "    nfl_df.drop([0, 5, 10, 15,20, 25,30,35] ,axis=0 , inplace=True)\n",
    "\n",
    "    nfl_df['team'] = nfl_df['team'].apply(lambda x: re.sub(r'\\+?\\*?', \"\", x))\n",
    "\n",
    "    nfl_df['team'] = nfl_df['team'].apply(lambda x: x.split(\" \")[-1])\n",
    "\n",
    "    cities = cities.filter(['Metropolitan area','Population (2016 est.)[8]', 'NFL'])\n",
    "\n",
    "    cities['NFL'] = cities['NFL'].apply(lambda x: re.sub(r'\\[.*\\]', '', x))\n",
    "\n",
    "    cities['NFL'] = cities['NFL'].replace({\n",
    "                                            'GiantsJets' : 'Giants Jets',\n",
    "                                            'RamsChargers' : 'Rams Chargers',\n",
    "                                            '49ersRaiders' : '49ers Raiders'\n",
    "    })\n",
    "    cities['NFL'] = cities['NFL'].apply(lambda x: x.split(' '))\n",
    "    cities = cities.explode('NFL')\n",
    "\n",
    "    df = pd.merge(cities , nfl_df , left_on='NFL', right_on='team')\n",
    "\n",
    "    df = df.filter(['Metropolitan area', 'Population (2016 est.)[8]', 'W-L%'])\n",
    "\n",
    "    df['W-L%'] = df['W-L%'].astype(float)\n",
    "\n",
    "    df1 = df.groupby('Metropolitan area').mean()\n",
    "\n",
    "    df2 = df.drop_duplicates('Metropolitan area').filter(['Metropolitan area', 'Population (2016 est.)[8]'])\n",
    "    \n",
    "\n",
    "    df3 = pd.merge(df2 , df1, on= 'Metropolitan area')\n",
    "\n",
    "    return df3\n",
    "    \n",
    "def nfl_correlation(): \n",
    "    # YOUR CODE HERE\n",
    "#     raise NotImplementedError()\n",
    "    df = clean_data_nfl()\n",
    "    \n",
    "    population_by_region = df[\"Population (2016 est.)[8]\"].astype(float) # pass in metropolitan area population from cities\n",
    "    win_loss_by_region = df[\"W-L%\"] # pass in win/loss ratio from nfl_df in the same order as cities[\"Metropolitan area\"]\n",
    "\n",
    "    assert len(population_by_region) == len(win_loss_by_region), \"Q4: Your lists must be the same length\"\n",
    "    assert len(population_by_region) == 29, \"Q4: There should be 29 teams being analysed for NFL\"\n",
    "\n",
    "    result = stats.pearsonr(population_by_region, win_loss_by_region)\n",
    "    \n",
    "    return result\n",
    "nfl_correlation()\n"
   ]
  },
  {
   "cell_type": "code",
   "execution_count": null,
   "metadata": {
    "deletable": false,
    "editable": false,
    "nbgrader": {
     "checksum": "e9415d6399aa49e3a1a60813afdefa3b",
     "grade": true,
     "grade_id": "cell-de7b148b9554dbda",
     "locked": true,
     "points": 20,
     "schema_version": 1,
     "solution": false
    }
   },
   "outputs": [],
   "source": []
  },
  {
   "cell_type": "markdown",
   "metadata": {
    "deletable": false,
    "editable": false,
    "nbgrader": {
     "checksum": "b02d5cd3273f561e4ae939bb2a41740c",
     "grade": false,
     "grade_id": "cell-97b49d8639e908c4",
     "locked": true,
     "schema_version": 1,
     "solution": false
    }
   },
   "source": [
    "## Question 5\n",
    "In this question I would like you to explore the hypothesis that **given that an area has two sports teams in different sports, those teams will perform the same within their respective sports**. How I would like to see this explored is with a series of paired t-tests (so use [`ttest_rel`](https://docs.scipy.org/doc/scipy/reference/generated/scipy.stats.ttest_rel.html)) between all pairs of sports. Are there any sports where we can reject the null hypothesis? Again, average values where a sport has multiple teams in one region. Remember, you will only be including, for each sport, cities which have teams engaged in that sport, drop others as appropriate. This question is worth 20% of the grade for this assignment."
   ]
  },
  {
   "cell_type": "code",
   "execution_count": 416,
   "metadata": {
    "deletable": false,
    "nbgrader": {
     "checksum": "6d78c961eb66f8d8c81f06d33ae8f393",
     "grade": false,
     "grade_id": "cell-92f25f44b8d1179f",
     "locked": false,
     "schema_version": 1,
     "solution": true
    }
   },
   "outputs": [
    {
     "data": {
      "text/html": [
       "<div>\n",
       "<style scoped>\n",
       "    .dataframe tbody tr th:only-of-type {\n",
       "        vertical-align: middle;\n",
       "    }\n",
       "\n",
       "    .dataframe tbody tr th {\n",
       "        vertical-align: top;\n",
       "    }\n",
       "\n",
       "    .dataframe thead th {\n",
       "        text-align: right;\n",
       "    }\n",
       "</style>\n",
       "<table border=\"1\" class=\"dataframe\">\n",
       "  <thead>\n",
       "    <tr style=\"text-align: right;\">\n",
       "      <th></th>\n",
       "      <th>NFL</th>\n",
       "      <th>NBA</th>\n",
       "      <th>NHL</th>\n",
       "      <th>MLB</th>\n",
       "    </tr>\n",
       "  </thead>\n",
       "  <tbody>\n",
       "    <tr>\n",
       "      <th>NFL</th>\n",
       "      <td>NaN</td>\n",
       "      <td>0.937509</td>\n",
       "      <td>0.030318</td>\n",
       "      <td>0.803459</td>\n",
       "    </tr>\n",
       "    <tr>\n",
       "      <th>NBA</th>\n",
       "      <td>0.937509</td>\n",
       "      <td>NaN</td>\n",
       "      <td>0.022386</td>\n",
       "      <td>0.949566</td>\n",
       "    </tr>\n",
       "    <tr>\n",
       "      <th>NHL</th>\n",
       "      <td>0.030318</td>\n",
       "      <td>0.022386</td>\n",
       "      <td>NaN</td>\n",
       "      <td>0.000703</td>\n",
       "    </tr>\n",
       "    <tr>\n",
       "      <th>MLB</th>\n",
       "      <td>0.803459</td>\n",
       "      <td>0.949566</td>\n",
       "      <td>0.000703</td>\n",
       "      <td>NaN</td>\n",
       "    </tr>\n",
       "  </tbody>\n",
       "</table>\n",
       "</div>"
      ],
      "text/plain": [
       "          NFL       NBA       NHL       MLB\n",
       "NFL       NaN  0.937509  0.030318  0.803459\n",
       "NBA  0.937509       NaN  0.022386  0.949566\n",
       "NHL  0.030318  0.022386       NaN  0.000703\n",
       "MLB  0.803459  0.949566  0.000703       NaN"
      ]
     },
     "execution_count": 416,
     "metadata": {},
     "output_type": "execute_result"
    }
   ],
   "source": [
    "from heapq import merge\n",
    "import pandas as pd\n",
    "import numpy as np\n",
    "import scipy.stats as stats\n",
    "import re\n",
    "\n",
    "mlb_df=pd.read_csv(\"assets/mlb.csv\")\n",
    "nhl_df=pd.read_csv(\"assets/nhl.csv\")\n",
    "nba_df=pd.read_csv(\"assets/nba.csv\")\n",
    "nfl_df=pd.read_csv(\"assets/nfl.csv\")\n",
    "cities=pd.read_html(\"assets/wikipedia_data.html\")[1]\n",
    "cities=cities.iloc[:-1,[0,3,5,6,7,8]]\n",
    "\n",
    "\n",
    "def sports_team_performance():\n",
    "    from scipy.stats import ttest_ind\n",
    "    from scipy.stats import ttest_rel\n",
    "\n",
    "\n",
    "    \n",
    "    df1 = clean_data_nfl()\n",
    "    df2 = clean_data_nba()\n",
    "    df3= clean_data_mlb()\n",
    "    df4 = clean_data_nhl()\n",
    "\n",
    "    df5 = pd.merge(df1,df2, on='Metropolitan area').filter(['Metropolitan area', 'W-L%', 'W/L%'])\n",
    "    df6 = pd.merge(df1,df3, on='Metropolitan area').filter(['Metropolitan area', 'W-L%_x', 'W-L%_y'])\n",
    "    df7 = pd.merge(df1,df4, on='Metropolitan area').filter(['Metropolitan area', 'W-L%', 'W/L%'])\n",
    "    df8 = pd.merge(df2,df3, on='Metropolitan area').filter(['Metropolitan area', 'W-L%', 'W/L%'])\n",
    "    df9 = pd.merge(df2,df4, on='Metropolitan area').filter(['Metropolitan area', 'W/L%_x', 'W/L%_y'])\n",
    "    df10 = pd.merge(df3,df4, on='Metropolitan area').filter(['Metropolitan area', 'W-L%', 'W/L%'])\n",
    "    \n",
    "    # Note: p_values is a full dataframe, so df.loc[\"NFL\",\"NBA\"] should be the same as df.loc[\"NBA\",\"NFL\"] and\n",
    "    # df.loc[\"NFL\",\"NFL\"] should return np.nan\n",
    "    sports = ['NFL', 'NBA', 'NHL', 'MLB']\n",
    "    p_values = pd.DataFrame({k:np.nan for k in sports}, index=sports)\n",
    "    p_values.loc[sports[0], sports[3]] = p_values.loc[sports[3], sports[0]]  = ttest_rel(df6['W-L%_x'], df6['W-L%_y'])[1] \n",
    "    p_values.loc[sports[0], sports[1]] = p_values.loc[sports[1], sports[0]] = ttest_rel(df5['W-L%'], df5['W/L%'])[1]\n",
    "    p_values.loc[sports[0], sports[2]] = p_values.loc[sports[2], sports[0]] = ttest_rel(df7['W-L%'], df7['W/L%'])[1]\n",
    "   \n",
    "    p_values.loc[sports[1], sports[2]] = p_values.loc[sports[2], sports[1]]  = ttest_rel(df9['W/L%_x'], df9['W/L%_y'])[1] \n",
    "    p_values.loc[sports[1], sports[3]] = p_values.loc[sports[3], sports[1]] = ttest_rel(df8['W-L%'], df8['W/L%'])[1]\n",
    "    \n",
    "    p_values.loc[sports[2], sports[3]] = p_values.loc[sports[3], sports[2]] = ttest_rel(df10['W-L%'], df10['W/L%'])[1]\n",
    " \n",
    "    assert abs(p_values.loc[\"NBA\", \"NHL\"] - 0.02) <= 1e-2, \"The NBA-NHL p-value should be around 0.02\"\n",
    "    assert abs(p_values.loc[\"MLB\", \"NFL\"] - 0.80) <= 1e-2, \"The MLB-NFL p-value should be around 0.80\"\n",
    "    return p_values\n",
    "\n",
    "\n",
    "sports_team_performance()"
   ]
  },
  {
   "cell_type": "code",
   "execution_count": null,
   "metadata": {
    "deletable": false,
    "editable": false,
    "nbgrader": {
     "checksum": "2a596ab421a45cc01168d10e8fbb8f89",
     "grade": true,
     "grade_id": "cell-fb4b9cb5ff4570a6",
     "locked": true,
     "points": 20,
     "schema_version": 1,
     "solution": false
    }
   },
   "outputs": [],
   "source": []
  }
 ],
 "metadata": {
  "coursera": {
   "schema_names": [
    "mooc_adswpy_1_v2_assignment4"
   ]
  },
  "kernelspec": {
   "display_name": "Python 3",
   "language": "python",
   "name": "python3"
  },
  "language_info": {
   "codemirror_mode": {
    "name": "ipython",
    "version": 3
   },
   "file_extension": ".py",
   "mimetype": "text/x-python",
   "name": "python",
   "nbconvert_exporter": "python",
   "pygments_lexer": "ipython3",
   "version": "3.7.3"
  }
 },
 "nbformat": 4,
 "nbformat_minor": 4
}
