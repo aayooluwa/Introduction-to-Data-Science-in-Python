{
 "cells": [
  {
   "cell_type": "markdown",
   "metadata": {
    "deletable": false,
    "editable": false,
    "nbgrader": {
     "checksum": "5a8d839ee00398fa3bd3bc58ec642beb",
     "grade": false,
     "grade_id": "cell-a839e7b47494b4c3",
     "locked": true,
     "schema_version": 1,
     "solution": false
    }
   },
   "source": [
    "# Assignment 2\n",
    "For this assignment you'll be looking at 2017 data on immunizations from the CDC. Your datafile for this assignment is in [assets/NISPUF17.csv](assets/NISPUF17.csv). A data users guide for this, which you'll need to map the variables in the data to the questions being asked, is available at [assets/NIS-PUF17-DUG.pdf](assets/NIS-PUF17-DUG.pdf). **Note: you may have to go to your Jupyter tree (click on the Coursera image) and navigate to the assignment 2 assets folder to see this PDF file).**"
   ]
  },
  {
   "cell_type": "markdown",
   "metadata": {
    "deletable": false,
    "editable": false,
    "hideCode": false,
    "hidePrompt": false,
    "nbgrader": {
     "checksum": "aaa5e730f40ba21c1bc94f864bad4742",
     "grade": false,
     "grade_id": "cell-58fc2e5938733f6a",
     "locked": true,
     "schema_version": 1,
     "solution": false
    }
   },
   "source": [
    "## Question 1\n",
    "Write a function called `proportion_of_education` which returns the proportion of children in the dataset who had a mother with the education levels equal to less than high school (<12), high school (12), more than high school but not a college graduate (>12) and college degree.\n",
    "\n",
    "*This function should return a dictionary in the form of (use the correct numbers, do not round numbers):* \n",
    "```\n",
    "    {\"less than high school\":0.2,\n",
    "    \"high school\":0.4,\n",
    "    \"more than high school but not college\":0.2,\n",
    "    \"college\":0.2}\n",
    "```\n"
   ]
  },
  {
   "cell_type": "code",
   "execution_count": 4,
   "metadata": {
    "deletable": false,
    "nbgrader": {
     "checksum": "0ac58deb3f5ac988c643e903cbee7f3a",
     "grade": false,
     "grade_id": "cell-eea16d020eb52ae7",
     "locked": false,
     "schema_version": 1,
     "solution": true
    }
   },
   "outputs": [
    {
     "name": "stdout",
     "output_type": "stream",
     "text": [
      "       SEQNUMC  SEQNUMHH  PDAT    PROVWT_D     RDDWT_D  STRATUM  YEAR  \\\n",
      "1       128521     12852     2         NaN  235.916956     1031  2017   \n",
      "2        10741      1074     2         NaN  957.353840     1068  2017   \n",
      "3       220011     22001     2         NaN  189.611299     1050  2017   \n",
      "4        86131      8613     1  675.430817  333.447418     1040  2017   \n",
      "5       227141     22714     1  482.617748  278.768063     1008  2017   \n",
      "...        ...       ...   ...         ...         ...      ...   ...   \n",
      "28461    19141      1914     2         NaN   21.188088     2062  2017   \n",
      "28462   121401     12140     2         NaN   26.503010     2004  2017   \n",
      "28463   128831     12883     2         NaN   27.520652     2004  2017   \n",
      "28464    82921      8292     2         NaN   22.390587     2062  2017   \n",
      "28465   244621     24462     2         NaN   27.520652     2004  2017   \n",
      "\n",
      "       AGECPOXR  HAD_CPOX  AGEGRP  ...  XVRCTY2  XVRCTY3  XVRCTY4  XVRCTY5  \\\n",
      "1           NaN         2       1  ...                        NaN      NaN   \n",
      "2           NaN         2       1  ...                        NaN      NaN   \n",
      "3           NaN         2       3  ...                        NaN      NaN   \n",
      "4           NaN         2       1  ...                        NaN      NaN   \n",
      "5           NaN         2       1  ...                        NaN      NaN   \n",
      "...         ...       ...     ...  ...      ...      ...      ...      ...   \n",
      "28461       NaN         2       3  ...                        NaN      NaN   \n",
      "28462       NaN         2       3  ...                        NaN      NaN   \n",
      "28463       NaN         2       3  ...                        NaN      NaN   \n",
      "28464       NaN         2       3  ...                        NaN      NaN   \n",
      "28465       NaN         2       3  ...                        NaN      NaN   \n",
      "\n",
      "       XVRCTY6  XVRCTY7  XVRCTY8  XVRCTY9  INS_STAT2_I  INS_BREAK_I  \n",
      "1          NaN      NaN      NaN      NaN          NaN          NaN  \n",
      "2          NaN      NaN      NaN      NaN          NaN          NaN  \n",
      "3          NaN      NaN      NaN      NaN          NaN          NaN  \n",
      "4          NaN      NaN      NaN      NaN          1.0          2.0  \n",
      "5          NaN      NaN      NaN      NaN          2.0          1.0  \n",
      "...        ...      ...      ...      ...          ...          ...  \n",
      "28461      NaN      NaN      NaN      NaN          NaN          NaN  \n",
      "28462      NaN      NaN      NaN      NaN          NaN          NaN  \n",
      "28463      NaN      NaN      NaN      NaN          NaN          NaN  \n",
      "28464      NaN      NaN      NaN      NaN          NaN          NaN  \n",
      "28465      NaN      NaN      NaN      NaN          NaN          NaN  \n",
      "\n",
      "[28465 rows x 453 columns]\n",
      "{'less than high school': 0.10202002459160373, 'high school': 0.172352011241876, 'more than high school but not college': 0.24588090637625154, 'college': 0.47974705779026877}\n"
     ]
    },
    {
     "data": {
      "text/plain": [
       "{'less than high school': 0.10202002459160373,\n",
       " 'high school': 0.172352011241876,\n",
       " 'more than high school but not college': 0.24588090637625154,\n",
       " 'college': 0.47974705779026877}"
      ]
     },
     "execution_count": 4,
     "metadata": {},
     "output_type": "execute_result"
    }
   ],
   "source": [
    "import pandas as pd\n",
    "import numpy as np\n",
    "\n",
    "\n",
    "def proportion_of_education():\n",
    "    df = pd.read_csv(\"assets/NISPUF17.csv\", index_col = 0)\n",
    "    print(df)\n",
    "\n",
    "    LOE = df['EDUC1']  #find the column relating to the maternity age\n",
    "    n = len(LOE)    #Total number of entries in the data\n",
    "\n",
    "    '''\n",
    "    or\n",
    "    \n",
    "    test = LOE.value_counts(normalize=True)    #.value_counts gives the proprtion of items present in the result\n",
    "    print(test)\n",
    "    print(test.iloc[3])\n",
    "\n",
    "    '''\n",
    "    A = np.sum(LOE ==1)/n #Total number of entries with 1 as the value divided by the total number of entries\n",
    "    B = np.sum(LOE ==2)/n\n",
    "    C = np.sum(LOE ==3)/n\n",
    "    D = np.sum(LOE ==4)/n\n",
    "    \n",
    "    loe = {\"less than high school\": A,\n",
    "    \"high school\": B,\n",
    "    \"more than high school but not college\": C,\n",
    "    \"college\": D\n",
    "    }\n",
    "\n",
    "    print(loe)\n",
    "    \n",
    "    return loe\n",
    "\n",
    "   \n",
    "\n",
    "proportion_of_education()"
   ]
  },
  {
   "cell_type": "code",
   "execution_count": null,
   "metadata": {
    "deletable": false,
    "editable": false,
    "hideCode": false,
    "hidePrompt": false,
    "nbgrader": {
     "checksum": "ac5d91a24a7f72f66c25d242c3d24a50",
     "grade": true,
     "grade_id": "cell-c0eeef201366f51c",
     "locked": true,
     "points": 1,
     "schema_version": 1,
     "solution": false
    }
   },
   "outputs": [],
   "source": [
    "assert type(proportion_of_education())==type({}), \"You must return a dictionary.\"\n",
    "assert len(proportion_of_education()) == 4, \"You have not returned a dictionary with four items in it.\"\n",
    "assert \"less than high school\" in proportion_of_education().keys(), \"You have not returned a dictionary with the correct keys.\"\n",
    "assert \"high school\" in proportion_of_education().keys(), \"You have not returned a dictionary with the correct keys.\"\n",
    "assert \"more than high school but not college\" in proportion_of_education().keys(), \"You have not returned a dictionary with the correct keys.\"\n",
    "assert \"college\" in proportion_of_education().keys(), \"You have not returned a dictionary with the correct keys.\"\n"
   ]
  },
  {
   "cell_type": "markdown",
   "metadata": {
    "deletable": false,
    "editable": false,
    "nbgrader": {
     "checksum": "562b78b7b9b79580269be0a3bebf4b42",
     "grade": false,
     "grade_id": "cell-8fcbb64516283f52",
     "locked": true,
     "schema_version": 1,
     "solution": false
    }
   },
   "source": [
    "## Question 2\n",
    "\n",
    "Let's explore the relationship between being fed breastmilk as a child and getting a seasonal influenza vaccine from a healthcare provider. Return a tuple of the average number of influenza vaccines for those children we know received breastmilk as a child and those who know did not.\n",
    "\n",
    "*This function should return a tuple in the form (use the correct numbers:*\n",
    "```\n",
    "(2.5, 0.1)\n",
    "```"
   ]
  },
  {
   "cell_type": "code",
   "execution_count": 87,
   "metadata": {
    "deletable": false,
    "nbgrader": {
     "checksum": "a405d639063c4a6408365479f29c95c9",
     "grade": false,
     "grade_id": "cell-77f18c512324eabb",
     "locked": false,
     "schema_version": 1,
     "solution": true
    }
   },
   "outputs": [
    {
     "name": "stdout",
     "output_type": "stream",
     "text": [
      "1.8799187420058687\n"
     ]
    }
   ],
   "source": [
    "def average_influenza_doses():\n",
    "    df = pd.read_csv(\"assets/NISPUF17.csv\", index_col = 0)\n",
    "    \n",
    "    BF = df[df['CBF_01'] == 1] #filters data based on breastfed children\n",
    "    #df.dropna\n",
    "    NF = df[df['CBF_01'] == 2] #filters data based on non-breastfed children\n",
    "\n",
    "    print(BF[\"P_NUMFLU\"].mean())\n",
    "\n",
    "    return (BF[\"P_NUMFLU\"].mean(), NF[\"P_NUMFLU\"].mean())\n",
    "\n",
    "    '''\n",
    "    nB = len(BF) #computes the number of breastfed children\n",
    "    nF = len(NF) #computes the number of non-breastfed children\n",
    "\n",
    "    A = BF['P_NUMFLU']\n",
    "    B = NF['P_NUMFLU']\n",
    "    \n",
    "    print(A.sum(axis=0))\n",
    "    print(B.sum(axis=0))\n",
    "\n",
    "    RATIO = (NUM_BF/nB , NUM_NF/nF) \n",
    "\n",
    "    print(len(df))\n",
    "\n",
    "    #NUM_BF = np.sum(df['P_NUMFLU']) #sums the number of doses available to breastfed children\n",
    "    #NUM_NF = np.sum(df['P_NUMFLU']) #sums the number of doses available to non-breastfed children\n",
    "\n",
    "    #RATIO = (nB/NUM_BF , nF/NUM_NF) #returns a tuple of the average number of vaccines available per child\n",
    "\n",
    "\n",
    "    #return RATIO  \n",
    "    '''\n",
    "    \n",
    "  \n",
    "    \n",
    "    \n",
    "average_influenza_doses()"
   ]
  },
  {
   "cell_type": "code",
   "execution_count": 38,
   "metadata": {
    "deletable": false,
    "editable": false,
    "nbgrader": {
     "checksum": "19be955e97fdf7162d43fbb7c2c40951",
     "grade": true,
     "grade_id": "cell-54a3ba6cff31caa7",
     "locked": true,
     "points": 1,
     "schema_version": 1,
     "solution": false
    }
   },
   "outputs": [],
   "source": [
    "assert len(average_influenza_doses())==2, \"Return two values in a tuple, the first for yes and the second for no.\"\n"
   ]
  },
  {
   "cell_type": "markdown",
   "metadata": {
    "deletable": false,
    "editable": false,
    "nbgrader": {
     "checksum": "e10e2163f5957a0c398ef4f0b76b4efe",
     "grade": false,
     "grade_id": "cell-f63377f3c97aa7c4",
     "locked": true,
     "schema_version": 1,
     "solution": false
    }
   },
   "source": [
    "## Question 3\n",
    "It would be interesting to see if there is any evidence of a link between vaccine effectiveness and sex of the child. Calculate the ratio of the number of children who contracted chickenpox but were vaccinated against it (at least one varicella dose) versus those who were vaccinated but did not contract chicken pox. Return results by sex. \n",
    "\n",
    "*This function should return a dictionary in the form of (use the correct numbers):* \n",
    "```\n",
    "    {\"male\":0.2,\n",
    "    \"female\":0.4}\n",
    "```\n",
    "\n",
    "Note: To aid in verification, the `chickenpox_by_sex()['female']` value the autograder is looking for starts with the digits `0.0077`."
   ]
  },
  {
   "cell_type": "code",
   "execution_count": 57,
   "metadata": {
    "deletable": false,
    "nbgrader": {
     "checksum": "b4d1b58acae002bc73eb0b19f95bc4af",
     "grade": false,
     "grade_id": "cell-a0a9e6fe67698006",
     "locked": false,
     "schema_version": 1,
     "solution": true
    }
   },
   "outputs": [
    {
     "name": "stdout",
     "output_type": "stream",
     "text": [
      "13995\n",
      "121\n",
      "13830\n",
      "{'male': 0.009675583380762664, 'female': 0.0077918259335489565}\n"
     ]
    },
    {
     "name": "stderr",
     "output_type": "stream",
     "text": [
      "C:\\Users\\ayool\\AppData\\Local\\Temp\\ipykernel_23616\\1302905416.py:7: UserWarning: Boolean Series key will be reindexed to match DataFrame index.\n",
      "  HAD_CPOX = HAD_VRC[df['HAD_CPOX'] == 1]\n",
      "C:\\Users\\ayool\\AppData\\Local\\Temp\\ipykernel_23616\\1302905416.py:9: UserWarning: Boolean Series key will be reindexed to match DataFrame index.\n",
      "  HAD_NPOX = HAD_VRC[df['HAD_CPOX'] == 2 ]\n",
      "C:\\Users\\ayool\\AppData\\Local\\Temp\\ipykernel_23616\\1302905416.py:14: UserWarning: Boolean Series key will be reindexed to match DataFrame index.\n",
      "  MALE_HAD_CPOX = len(HAD_CPOX[df['SEX']== 1])\n",
      "C:\\Users\\ayool\\AppData\\Local\\Temp\\ipykernel_23616\\1302905416.py:15: UserWarning: Boolean Series key will be reindexed to match DataFrame index.\n",
      "  MALE_HAD_NPOX = len(HAD_NPOX[df['SEX']== 1])\n",
      "C:\\Users\\ayool\\AppData\\Local\\Temp\\ipykernel_23616\\1302905416.py:20: UserWarning: Boolean Series key will be reindexed to match DataFrame index.\n",
      "  FEMALE_HAD_CPOX = len(HAD_CPOX[df['SEX']== 2])\n",
      "C:\\Users\\ayool\\AppData\\Local\\Temp\\ipykernel_23616\\1302905416.py:21: UserWarning: Boolean Series key will be reindexed to match DataFrame index.\n",
      "  FEMALE_HAD_NPOX = len(HAD_NPOX[df['SEX']== 2])\n"
     ]
    }
   ],
   "source": [
    "def chickenpox_by_sex():\n",
    "    # YOUR CODE HERE\n",
    "    df = pd.read_csv(\"assets/NISPUF17.csv\", index_col = 0)\n",
    "\n",
    "    HAD_VRC = df[df['P_NUMVRC'] > 0]  #creates a dataframe containing vaccinated children\n",
    "  \n",
    "    HAD_CPOX = HAD_VRC[df['HAD_CPOX'] == 1] #creates a dataframe from HAD-VRC containing vaccinated children that had chickenpox\n",
    "   \n",
    "    HAD_NPOX = HAD_VRC[df['HAD_CPOX'] == 2 ] #creates a dataframe from HAD_VRC containing vaccinated children that did not have chickenpox\n",
    "   \n",
    "\n",
    "\n",
    "    #FOR MALE\n",
    "    MALE_HAD_CPOX = len(HAD_CPOX[df['SEX']== 1]) \n",
    "    MALE_HAD_NPOX = len(HAD_NPOX[df['SEX']== 1])\n",
    "\n",
    "    A = MALE_HAD_CPOX/MALE_HAD_NPOX\n",
    "\n",
    "    #FOR FEMALE\n",
    "    FEMALE_HAD_CPOX = len(HAD_CPOX[df['SEX']== 2])\n",
    "    FEMALE_HAD_NPOX = len(HAD_NPOX[df['SEX']== 2])\n",
    "\n",
    "    B = FEMALE_HAD_CPOX/FEMALE_HAD_NPOX\n",
    "\n",
    "    dict = { \"male\" : A, \"female\" : B}\n",
    "\n",
    "    print(dict)\n",
    "\n",
    "    \n",
    "\n",
    "chickenpox_by_sex()"
   ]
  },
  {
   "cell_type": "code",
   "execution_count": null,
   "metadata": {
    "deletable": false,
    "editable": false,
    "nbgrader": {
     "checksum": "1b6a113a633c55699ae478a3a9ee9c33",
     "grade": true,
     "grade_id": "cell-c4f1714db100c865",
     "locked": true,
     "points": 1,
     "schema_version": 1,
     "solution": false
    }
   },
   "outputs": [],
   "source": [
    "assert len(chickenpox_by_sex())==2, \"Return a dictionary with two items, the first for males and the second for females.\"\n"
   ]
  },
  {
   "cell_type": "markdown",
   "metadata": {},
   "source": [
    "## Question 4\n",
    "A correlation is a statistical relationship between two variables. If we wanted to know if vaccines work, we might look at the correlation between the use of the vaccine and whether it results in prevention of the infection or disease [1]. In this question, you are to see if there is a correlation between having had the chicken pox and the number of chickenpox vaccine doses given (varicella).\n",
    "\n",
    "Some notes on interpreting the answer. The `had_chickenpox_column` is either `1` (for yes) or `2` (for no), and the `num_chickenpox_vaccine_column` is the number of doses a child has been given of the varicella vaccine. A positive correlation (e.g., `corr > 0`) means that an increase in `had_chickenpox_column` (which means more no’s) would also increase the values of `num_chickenpox_vaccine_column` (which means more doses of vaccine). If there is a negative correlation (e.g., `corr < 0`), it indicates that having had chickenpox is related to an increase in the number of vaccine doses.\n",
    "\n",
    "Also, `pval` is the probability that we observe a correlation between `had_chickenpox_column` and `num_chickenpox_vaccine_column` which is greater than or equal to a particular value occurred by chance. A small `pval` means that the observed correlation is highly unlikely to occur by chance. In this case, `pval` should be very small (will end in `e-18` indicating a very small number).\n",
    "\n",
    "[1] This isn’t really the full picture, since we are not looking at when the dose was given. It’s possible that children had chickenpox and then their parents went to get them the vaccine. Does this dataset have the data we would need to investigate the timing of the dose?"
   ]
  },
  {
   "cell_type": "code",
   "execution_count": 7,
   "metadata": {
    "deletable": false,
    "nbgrader": {
     "checksum": "3e645859949447913cd11d30eb33cb1e",
     "grade": false,
     "grade_id": "cell-8afff07f564cf79a",
     "locked": false,
     "schema_version": 1,
     "solution": true
    }
   },
   "outputs": [
    {
     "name": "stdout",
     "output_type": "stream",
     "text": [
      "       SEQNUMC  SEQNUMHH  PDAT    PROVWT_D     RDDWT_D  STRATUM  YEAR  \\\n",
      "1       128521     12852     2         NaN  235.916956     1031  2017   \n",
      "2        10741      1074     2         NaN  957.353840     1068  2017   \n",
      "3       220011     22001     2         NaN  189.611299     1050  2017   \n",
      "4        86131      8613     1  675.430817  333.447418     1040  2017   \n",
      "5       227141     22714     1  482.617748  278.768063     1008  2017   \n",
      "...        ...       ...   ...         ...         ...      ...   ...   \n",
      "28461    19141      1914     2         NaN   21.188088     2062  2017   \n",
      "28462   121401     12140     2         NaN   26.503010     2004  2017   \n",
      "28463   128831     12883     2         NaN   27.520652     2004  2017   \n",
      "28464    82921      8292     2         NaN   22.390587     2062  2017   \n",
      "28465   244621     24462     2         NaN   27.520652     2004  2017   \n",
      "\n",
      "       AGECPOXR  HAD_CPOX  AGEGRP  ...  XVRCTY2  XVRCTY3  XVRCTY4  XVRCTY5  \\\n",
      "1           NaN         2       1  ...                        NaN      NaN   \n",
      "2           NaN         2       1  ...                        NaN      NaN   \n",
      "3           NaN         2       3  ...                        NaN      NaN   \n",
      "4           NaN         2       1  ...                        NaN      NaN   \n",
      "5           NaN         2       1  ...                        NaN      NaN   \n",
      "...         ...       ...     ...  ...      ...      ...      ...      ...   \n",
      "28461       NaN         2       3  ...                        NaN      NaN   \n",
      "28462       NaN         2       3  ...                        NaN      NaN   \n",
      "28463       NaN         2       3  ...                        NaN      NaN   \n",
      "28464       NaN         2       3  ...                        NaN      NaN   \n",
      "28465       NaN         2       3  ...                        NaN      NaN   \n",
      "\n",
      "       XVRCTY6  XVRCTY7  XVRCTY8  XVRCTY9  INS_STAT2_I  INS_BREAK_I  \n",
      "1          NaN      NaN      NaN      NaN          NaN          NaN  \n",
      "2          NaN      NaN      NaN      NaN          NaN          NaN  \n",
      "3          NaN      NaN      NaN      NaN          NaN          NaN  \n",
      "4          NaN      NaN      NaN      NaN          1.0          2.0  \n",
      "5          NaN      NaN      NaN      NaN          2.0          1.0  \n",
      "...        ...      ...      ...      ...          ...          ...  \n",
      "28461      NaN      NaN      NaN      NaN          NaN          NaN  \n",
      "28462      NaN      NaN      NaN      NaN          NaN          NaN  \n",
      "28463      NaN      NaN      NaN      NaN          NaN          NaN  \n",
      "28464      NaN      NaN      NaN      NaN          NaN          NaN  \n",
      "28465      NaN      NaN      NaN      NaN          NaN          NaN  \n",
      "\n",
      "[28357 rows x 453 columns]\n",
      "       SEQNUMC  SEQNUMHH  PDAT    PROVWT_D     RDDWT_D  STRATUM  YEAR  \\\n",
      "4        86131      8613     1  675.430817  333.447418     1040  2017   \n",
      "5       227141     22714     1  482.617748  278.768063     1008  2017   \n",
      "7       221381     22138     1  516.427723  248.916038     1008  2017   \n",
      "8       182861     18286     1  313.225832  163.213401     1001  2017   \n",
      "9       161121     16112     1  978.042448  718.616990     1016  2017   \n",
      "...        ...       ...   ...         ...         ...      ...   ...   \n",
      "28447   193801     19380     1  321.058203  110.009181     2047  2017   \n",
      "28448   136841     13684     1  593.426753  337.255316     2031  2017   \n",
      "28450   132081     13208     1  166.681363   96.330007     2059  2017   \n",
      "28453    82151      8215     1  335.456813  159.895243     2056  2017   \n",
      "28455   191451     19145     1   59.626969   29.187316     2074  2017   \n",
      "\n",
      "       AGECPOXR  HAD_CPOX  AGEGRP  ...  XVRCTY2  XVRCTY3  XVRCTY4  XVRCTY5  \\\n",
      "4           NaN         2       1  ...                        NaN      NaN   \n",
      "5           NaN         2       1  ...                        NaN      NaN   \n",
      "7           NaN         2       3  ...                        NaN      NaN   \n",
      "8           NaN         2       2  ...                        NaN      NaN   \n",
      "9           3.0         1       1  ...                        NaN      NaN   \n",
      "...         ...       ...     ...  ...      ...      ...      ...      ...   \n",
      "28447       NaN         2       2  ...                        NaN      NaN   \n",
      "28448       NaN         2       2  ...                        NaN      NaN   \n",
      "28450       NaN         2       3  ...                        NaN      NaN   \n",
      "28453       NaN         2       2  ...                        NaN      NaN   \n",
      "28455       NaN         2       2  ...                        NaN      NaN   \n",
      "\n",
      "       XVRCTY6  XVRCTY7  XVRCTY8  XVRCTY9  INS_STAT2_I  INS_BREAK_I  \n",
      "4          NaN      NaN      NaN      NaN          1.0          2.0  \n",
      "5          NaN      NaN      NaN      NaN          2.0          1.0  \n",
      "7          NaN      NaN      NaN      NaN          1.0          2.0  \n",
      "8          NaN      NaN      NaN      NaN          3.0          2.0  \n",
      "9          NaN      NaN      NaN      NaN          4.0          4.0  \n",
      "...        ...      ...      ...      ...          ...          ...  \n",
      "28447      NaN      NaN      NaN      NaN          2.0          2.0  \n",
      "28448      NaN      NaN      NaN      NaN          1.0          2.0  \n",
      "28450      NaN      NaN      NaN      NaN          1.0          2.0  \n",
      "28453      NaN      NaN      NaN      NaN          1.0          2.0  \n",
      "28455      NaN      NaN      NaN      NaN          3.0          2.0  \n",
      "\n",
      "[15286 rows x 453 columns]\n"
     ]
    }
   ],
   "source": [
    "def corr_chickenpox():\n",
    "   \n",
    "    from scipy import stats\n",
    "    import numpy as np\n",
    "    import pandas as pd\n",
    "    \n",
    "    # this is just an example dataframe\n",
    "    #df=pd.DataFrame({\"had_chickenpox_column\":np.random.randint(1,3,size=(100)),\n",
    "    #               \"num_chickenpox_vaccine_column\":np.random.randint(0,6,size=(100))})\n",
    "\n",
    "    # here is some stub code to actually run the correlation\n",
    "    #corr, pval=stats.pearsonr(df[\"had_chickenpox_column\"],df[\"num_chickenpox_vaccine_column\"])\n",
    "    df = pd.read_csv(\"assets/NISPUF17.csv\", index_col = 0)\n",
    "    df = df[df[\"HAD_CPOX\"] <= 2]\n",
    "  \n",
    "    df = df[~df[\"P_NUMVRC\"].isna() & ~df[\"HAD_CPOX\"].isna()]\n",
    "    corr, pval=stats.pearsonr(df[\"HAD_CPOX\"], df[\"P_NUMVRC\"])\n",
    "    # just return the correlation\n",
    "    #return corr\n",
    "\n",
    "    # YOUR CODE HERE\n",
    "    \n",
    "corr_chickenpox()"
   ]
  },
  {
   "cell_type": "code",
   "execution_count": 8,
   "metadata": {
    "deletable": false,
    "editable": false,
    "nbgrader": {
     "checksum": "ac50ccb747b99f6bbcc76da017e66528",
     "grade": true,
     "grade_id": "cell-73408733533a29a5",
     "locked": true,
     "points": 1,
     "schema_version": 1,
     "solution": false
    }
   },
   "outputs": [
    {
     "name": "stdout",
     "output_type": "stream",
     "text": [
      "       SEQNUMC  SEQNUMHH  PDAT    PROVWT_D     RDDWT_D  STRATUM  YEAR  \\\n",
      "1       128521     12852     2         NaN  235.916956     1031  2017   \n",
      "2        10741      1074     2         NaN  957.353840     1068  2017   \n",
      "3       220011     22001     2         NaN  189.611299     1050  2017   \n",
      "4        86131      8613     1  675.430817  333.447418     1040  2017   \n",
      "5       227141     22714     1  482.617748  278.768063     1008  2017   \n",
      "...        ...       ...   ...         ...         ...      ...   ...   \n",
      "28461    19141      1914     2         NaN   21.188088     2062  2017   \n",
      "28462   121401     12140     2         NaN   26.503010     2004  2017   \n",
      "28463   128831     12883     2         NaN   27.520652     2004  2017   \n",
      "28464    82921      8292     2         NaN   22.390587     2062  2017   \n",
      "28465   244621     24462     2         NaN   27.520652     2004  2017   \n",
      "\n",
      "       AGECPOXR  HAD_CPOX  AGEGRP  ...  XVRCTY2  XVRCTY3  XVRCTY4  XVRCTY5  \\\n",
      "1           NaN         2       1  ...                        NaN      NaN   \n",
      "2           NaN         2       1  ...                        NaN      NaN   \n",
      "3           NaN         2       3  ...                        NaN      NaN   \n",
      "4           NaN         2       1  ...                        NaN      NaN   \n",
      "5           NaN         2       1  ...                        NaN      NaN   \n",
      "...         ...       ...     ...  ...      ...      ...      ...      ...   \n",
      "28461       NaN         2       3  ...                        NaN      NaN   \n",
      "28462       NaN         2       3  ...                        NaN      NaN   \n",
      "28463       NaN         2       3  ...                        NaN      NaN   \n",
      "28464       NaN         2       3  ...                        NaN      NaN   \n",
      "28465       NaN         2       3  ...                        NaN      NaN   \n",
      "\n",
      "       XVRCTY6  XVRCTY7  XVRCTY8  XVRCTY9  INS_STAT2_I  INS_BREAK_I  \n",
      "1          NaN      NaN      NaN      NaN          NaN          NaN  \n",
      "2          NaN      NaN      NaN      NaN          NaN          NaN  \n",
      "3          NaN      NaN      NaN      NaN          NaN          NaN  \n",
      "4          NaN      NaN      NaN      NaN          1.0          2.0  \n",
      "5          NaN      NaN      NaN      NaN          2.0          1.0  \n",
      "...        ...      ...      ...      ...          ...          ...  \n",
      "28461      NaN      NaN      NaN      NaN          NaN          NaN  \n",
      "28462      NaN      NaN      NaN      NaN          NaN          NaN  \n",
      "28463      NaN      NaN      NaN      NaN          NaN          NaN  \n",
      "28464      NaN      NaN      NaN      NaN          NaN          NaN  \n",
      "28465      NaN      NaN      NaN      NaN          NaN          NaN  \n",
      "\n",
      "[28357 rows x 453 columns]\n",
      "       SEQNUMC  SEQNUMHH  PDAT    PROVWT_D     RDDWT_D  STRATUM  YEAR  \\\n",
      "4        86131      8613     1  675.430817  333.447418     1040  2017   \n",
      "5       227141     22714     1  482.617748  278.768063     1008  2017   \n",
      "7       221381     22138     1  516.427723  248.916038     1008  2017   \n",
      "8       182861     18286     1  313.225832  163.213401     1001  2017   \n",
      "9       161121     16112     1  978.042448  718.616990     1016  2017   \n",
      "...        ...       ...   ...         ...         ...      ...   ...   \n",
      "28447   193801     19380     1  321.058203  110.009181     2047  2017   \n",
      "28448   136841     13684     1  593.426753  337.255316     2031  2017   \n",
      "28450   132081     13208     1  166.681363   96.330007     2059  2017   \n",
      "28453    82151      8215     1  335.456813  159.895243     2056  2017   \n",
      "28455   191451     19145     1   59.626969   29.187316     2074  2017   \n",
      "\n",
      "       AGECPOXR  HAD_CPOX  AGEGRP  ...  XVRCTY2  XVRCTY3  XVRCTY4  XVRCTY5  \\\n",
      "4           NaN         2       1  ...                        NaN      NaN   \n",
      "5           NaN         2       1  ...                        NaN      NaN   \n",
      "7           NaN         2       3  ...                        NaN      NaN   \n",
      "8           NaN         2       2  ...                        NaN      NaN   \n",
      "9           3.0         1       1  ...                        NaN      NaN   \n",
      "...         ...       ...     ...  ...      ...      ...      ...      ...   \n",
      "28447       NaN         2       2  ...                        NaN      NaN   \n",
      "28448       NaN         2       2  ...                        NaN      NaN   \n",
      "28450       NaN         2       3  ...                        NaN      NaN   \n",
      "28453       NaN         2       2  ...                        NaN      NaN   \n",
      "28455       NaN         2       2  ...                        NaN      NaN   \n",
      "\n",
      "       XVRCTY6  XVRCTY7  XVRCTY8  XVRCTY9  INS_STAT2_I  INS_BREAK_I  \n",
      "4          NaN      NaN      NaN      NaN          1.0          2.0  \n",
      "5          NaN      NaN      NaN      NaN          2.0          1.0  \n",
      "7          NaN      NaN      NaN      NaN          1.0          2.0  \n",
      "8          NaN      NaN      NaN      NaN          3.0          2.0  \n",
      "9          NaN      NaN      NaN      NaN          4.0          4.0  \n",
      "...        ...      ...      ...      ...          ...          ...  \n",
      "28447      NaN      NaN      NaN      NaN          2.0          2.0  \n",
      "28448      NaN      NaN      NaN      NaN          1.0          2.0  \n",
      "28450      NaN      NaN      NaN      NaN          1.0          2.0  \n",
      "28453      NaN      NaN      NaN      NaN          1.0          2.0  \n",
      "28455      NaN      NaN      NaN      NaN          3.0          2.0  \n",
      "\n",
      "[15286 rows x 453 columns]\n"
     ]
    },
    {
     "ename": "TypeError",
     "evalue": "'<=' not supported between instances of 'int' and 'NoneType'",
     "output_type": "error",
     "traceback": [
      "\u001b[1;31m---------------------------------------------------------------------------\u001b[0m",
      "\u001b[1;31mTypeError\u001b[0m                                 Traceback (most recent call last)",
      "\u001b[1;32mc:\\Users\\ayool\\Desktop\\COURSERA\\Python for Data Science\\Files_2\\Files\\home\\jovyan\\work\\assignments\\assignment2\\assignment2.ipynb Cell 13'\u001b[0m in \u001b[0;36m<cell line: 1>\u001b[1;34m()\u001b[0m\n\u001b[1;32m----> <a href='vscode-notebook-cell:/c%3A/Users/ayool/Desktop/COURSERA/Python%20for%20Data%20Science/Files_2/Files/home/jovyan/work/assignments/assignment2/assignment2.ipynb#ch0000012?line=0'>1</a>\u001b[0m \u001b[39massert\u001b[39;00m \u001b[39m-\u001b[39m\u001b[39m1\u001b[39m\u001b[39m<\u001b[39m\u001b[39m=\u001b[39mcorr_chickenpox()\u001b[39m<\u001b[39m\u001b[39m=\u001b[39m\u001b[39m1\u001b[39m, \u001b[39m\"\u001b[39m\u001b[39mYou must return a float number between -1.0 and 1.0.\u001b[39m\u001b[39m\"\u001b[39m\n",
      "\u001b[1;31mTypeError\u001b[0m: '<=' not supported between instances of 'int' and 'NoneType'"
     ]
    }
   ],
   "source": [
    "assert -1<=corr_chickenpox()<=1, \"You must return a float number between -1.0 and 1.0.\"\n"
   ]
  }
 ],
 "metadata": {
  "anaconda-cloud": {},
  "coursera": {
   "schema_names": [
    "mooc_adswpy_1_v2_assignment2"
   ]
  },
  "hide_code_all_hidden": false,
  "kernelspec": {
   "display_name": "Python 3.10.4 64-bit",
   "language": "python",
   "name": "python3"
  },
  "language_info": {
   "codemirror_mode": {
    "name": "ipython",
    "version": 3
   },
   "file_extension": ".py",
   "mimetype": "text/x-python",
   "name": "python",
   "nbconvert_exporter": "python",
   "pygments_lexer": "ipython3",
   "version": "3.10.4"
  },
  "vscode": {
   "interpreter": {
    "hash": "369f2c481f4da34e4445cda3fffd2e751bd1c4d706f27375911949ba6bb62e1c"
   }
  }
 },
 "nbformat": 4,
 "nbformat_minor": 1
}
