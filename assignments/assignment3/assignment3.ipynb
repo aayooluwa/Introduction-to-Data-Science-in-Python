{
 "cells": [
  {
   "cell_type": "markdown",
   "metadata": {
    "deletable": false,
    "editable": false,
    "nbgrader": {
     "checksum": "ab80976c194c2c1bfebb7f3a12fc4e58",
     "grade": false,
     "grade_id": "cell-018440ed2f1b6a62",
     "locked": true,
     "schema_version": 1,
     "solution": false
    }
   },
   "source": [
    "# Assignment 3\n",
    "All questions are weighted the same in this assignment. This assignment requires more individual learning then the last one did - you are encouraged to check out the [pandas documentation](http://pandas.pydata.org/pandas-docs/stable/) to find functions or methods you might not have used yet, or ask questions on [Stack Overflow](http://stackoverflow.com/) and tag them as pandas and python related. All questions are worth the same number of points except question 1 which is worth 17% of the assignment grade.\n",
    "\n",
    "**Note**: Questions 3-13 rely on your question 1 answer."
   ]
  },
  {
   "cell_type": "code",
   "execution_count": 2,
   "metadata": {},
   "outputs": [],
   "source": [
    "import pandas as pd\n",
    "import numpy as np\n",
    "\n",
    "# Filter all warnings. If you would like to see the warnings, please comment the two lines below.\n",
    "import warnings\n",
    "warnings.filterwarnings('ignore')"
   ]
  },
  {
   "cell_type": "markdown",
   "metadata": {
    "deletable": false,
    "editable": false,
    "nbgrader": {
     "checksum": "68063b8b0783f3d8122b516e0cce5f45",
     "grade": false,
     "grade_id": "cell-7e5190c7ff1f2e42",
     "locked": true,
     "schema_version": 1,
     "solution": false
    }
   },
   "source": [
    "+### Question 1\n",
    "Load the energy data from the file `assets/Energy Indicators.xls`, which is a list of indicators of [energy supply and renewable electricity production](assets/Energy%20Indicators.xls) from the [United Nations](http://unstats.un.org/unsd/environment/excel_file_tables/2013/Energy%20Indicators.xls) for the year 2013, and should be put into a DataFrame with the variable name of **Energy**.\n",
    "\n",
    "Keep in mind that this is an Excel file, and not a comma separated values file. Also, make sure to exclude the footer and header information from the datafile. The first two columns are unneccessary, so you should get rid of them, and you should change the column labels so that the columns are:\n",
    "\n",
    "`['Country', 'Energy Supply', 'Energy Supply per Capita', '% Renewable]`\n",
    "\n",
    "Convert `Energy Supply` to gigajoules (**Note: there are 1,000,000 gigajoules in a petajoule**). For all countries which have missing data (e.g. data with \"...\") make sure this is reflected as `np.NaN` values.\n",
    "\n",
    "Rename the following list of countries (for use in later questions):\n",
    "\n",
    "```\"Republic of Korea\": \"South Korea\",\n",
    "\"United States of America\": \"United States\",\n",
    "\"United Kingdom of Great Britain and Northern Ireland\": \"United Kingdom\",\n",
    "\"China, Hong Kong Special Administrative Region\": \"Hong Kong\"```\n",
    "\n",
    "There are also several countries with numbers and/or parenthesis in their name. Be sure to remove these, e.g. `'Bolivia (Plurinational State of)'` should be `'Bolivia'`.  `'Switzerland17'` should be `'Switzerland'`.\n",
    "\n",
    "Next, load the GDP data from the file `assets/world_bank.csv`, which is a csv containing countries' GDP from 1960 to 2015 from [World Bank](http://data.worldbank.org/indicator/NY.GDP.MKTP.CD). Call this DataFrame **GDP**. \n",
    "\n",
    "Make sure to skip the header, and rename the following list of countries:\n",
    "\n",
    "```\"Korea, Rep.\": \"South Korea\", \n",
    "\"Iran, Islamic Rep.\": \"Iran\",\n",
    "\"Hong Kong SAR, China\": \"Hong Kong\"```\n",
    "\n",
    "Finally, load the [Sciamgo Journal and Country Rank data for Energy Engineering and Power Technology](http://www.scimagojr.com/countryrank.php?category=2102) from the file `assets/scimagojr-3.xlsx`, which ranks countries based on their journal contributions in the aforementioned area. Call this DataFrame **ScimEn**.\n",
    "\n",
    "Join the three datasets: GDP, Energy, and ScimEn into a new dataset (using the intersection of country names). Use only the last 10 years (2006-2015) of GDP data and only the top 15 countries by Scimagojr 'Rank' (Rank 1 through 15). \n",
    "\n",
    "The index of this DataFrame should be the name of the country, and the columns should be ['Rank', 'Documents', 'Citable documents', 'Citations', 'Self-citations',\n",
    "       'Citations per document', 'H index', 'Energy Supply',\n",
    "       'Energy Supply per Capita', '% Renewable', '2006', '2007', '2008',\n",
    "       '2009', '2010', '2011', '2012', '2013', '2014', '2015'].\n",
    "\n",
    "*This function should return a DataFrame with 20 columns and 15 entries, and the rows of the DataFrame should be sorted by \"Rank\".*"
   ]
  },
  {
   "cell_type": "code",
   "execution_count": 138,
   "metadata": {
    "deletable": false,
    "nbgrader": {
     "checksum": "57e040f07954f979910eddc0f489ffe5",
     "grade": false,
     "grade_id": "cell-bce4d6f2ecdd1297",
     "locked": false,
     "schema_version": 1,
     "solution": true
    }
   },
   "outputs": [
    {
     "data": {
      "text/html": [
       "<div>\n",
       "<style scoped>\n",
       "    .dataframe tbody tr th:only-of-type {\n",
       "        vertical-align: middle;\n",
       "    }\n",
       "\n",
       "    .dataframe tbody tr th {\n",
       "        vertical-align: top;\n",
       "    }\n",
       "\n",
       "    .dataframe thead th {\n",
       "        text-align: right;\n",
       "    }\n",
       "</style>\n",
       "<table border=\"1\" class=\"dataframe\">\n",
       "  <thead>\n",
       "    <tr style=\"text-align: right;\">\n",
       "      <th></th>\n",
       "      <th>Rank</th>\n",
       "      <th>Documents</th>\n",
       "      <th>Citable documents</th>\n",
       "      <th>Citations</th>\n",
       "      <th>Self-citations</th>\n",
       "      <th>Citations per document</th>\n",
       "      <th>H index</th>\n",
       "      <th>Energy Supply</th>\n",
       "      <th>Energy Supply per Capita</th>\n",
       "      <th>% Renewable</th>\n",
       "      <th>2006</th>\n",
       "      <th>2007</th>\n",
       "      <th>2008</th>\n",
       "      <th>2009</th>\n",
       "      <th>2010</th>\n",
       "      <th>2011</th>\n",
       "      <th>2012</th>\n",
       "      <th>2013</th>\n",
       "      <th>2014</th>\n",
       "      <th>2015</th>\n",
       "    </tr>\n",
       "    <tr>\n",
       "      <th>Country</th>\n",
       "      <th></th>\n",
       "      <th></th>\n",
       "      <th></th>\n",
       "      <th></th>\n",
       "      <th></th>\n",
       "      <th></th>\n",
       "      <th></th>\n",
       "      <th></th>\n",
       "      <th></th>\n",
       "      <th></th>\n",
       "      <th></th>\n",
       "      <th></th>\n",
       "      <th></th>\n",
       "      <th></th>\n",
       "      <th></th>\n",
       "      <th></th>\n",
       "      <th></th>\n",
       "      <th></th>\n",
       "      <th></th>\n",
       "      <th></th>\n",
       "    </tr>\n",
       "  </thead>\n",
       "  <tbody>\n",
       "    <tr>\n",
       "      <th>China</th>\n",
       "      <td>1</td>\n",
       "      <td>127050</td>\n",
       "      <td>126767</td>\n",
       "      <td>597237</td>\n",
       "      <td>411683</td>\n",
       "      <td>4.70</td>\n",
       "      <td>138</td>\n",
       "      <td>127191000000</td>\n",
       "      <td>93</td>\n",
       "      <td>19.75491</td>\n",
       "      <td>3.992331e+12</td>\n",
       "      <td>4.559041e+12</td>\n",
       "      <td>4.997775e+12</td>\n",
       "      <td>5.459247e+12</td>\n",
       "      <td>6.039659e+12</td>\n",
       "      <td>6.612490e+12</td>\n",
       "      <td>7.124978e+12</td>\n",
       "      <td>7.672448e+12</td>\n",
       "      <td>8.230121e+12</td>\n",
       "      <td>8.797999e+12</td>\n",
       "    </tr>\n",
       "    <tr>\n",
       "      <th>United States</th>\n",
       "      <td>2</td>\n",
       "      <td>96661</td>\n",
       "      <td>94747</td>\n",
       "      <td>792274</td>\n",
       "      <td>265436</td>\n",
       "      <td>8.20</td>\n",
       "      <td>230</td>\n",
       "      <td>90838000000</td>\n",
       "      <td>286</td>\n",
       "      <td>11.57098</td>\n",
       "      <td>1.479230e+13</td>\n",
       "      <td>1.505540e+13</td>\n",
       "      <td>1.501149e+13</td>\n",
       "      <td>1.459484e+13</td>\n",
       "      <td>1.496437e+13</td>\n",
       "      <td>1.520402e+13</td>\n",
       "      <td>1.554216e+13</td>\n",
       "      <td>1.577367e+13</td>\n",
       "      <td>1.615662e+13</td>\n",
       "      <td>1.654857e+13</td>\n",
       "    </tr>\n",
       "    <tr>\n",
       "      <th>Japan</th>\n",
       "      <td>3</td>\n",
       "      <td>30504</td>\n",
       "      <td>30287</td>\n",
       "      <td>223024</td>\n",
       "      <td>61554</td>\n",
       "      <td>7.31</td>\n",
       "      <td>134</td>\n",
       "      <td>18984000000</td>\n",
       "      <td>149</td>\n",
       "      <td>10.23282</td>\n",
       "      <td>5.496542e+12</td>\n",
       "      <td>5.617036e+12</td>\n",
       "      <td>5.558527e+12</td>\n",
       "      <td>5.251308e+12</td>\n",
       "      <td>5.498718e+12</td>\n",
       "      <td>5.473738e+12</td>\n",
       "      <td>5.569102e+12</td>\n",
       "      <td>5.644659e+12</td>\n",
       "      <td>5.642884e+12</td>\n",
       "      <td>5.669563e+12</td>\n",
       "    </tr>\n",
       "    <tr>\n",
       "      <th>United Kingdom</th>\n",
       "      <td>4</td>\n",
       "      <td>20944</td>\n",
       "      <td>20357</td>\n",
       "      <td>206091</td>\n",
       "      <td>37874</td>\n",
       "      <td>9.84</td>\n",
       "      <td>139</td>\n",
       "      <td>7920000000</td>\n",
       "      <td>124</td>\n",
       "      <td>10.60047</td>\n",
       "      <td>2.419631e+12</td>\n",
       "      <td>2.482203e+12</td>\n",
       "      <td>2.470614e+12</td>\n",
       "      <td>2.367048e+12</td>\n",
       "      <td>2.403504e+12</td>\n",
       "      <td>2.450911e+12</td>\n",
       "      <td>2.479809e+12</td>\n",
       "      <td>2.533370e+12</td>\n",
       "      <td>2.605643e+12</td>\n",
       "      <td>2.666333e+12</td>\n",
       "    </tr>\n",
       "    <tr>\n",
       "      <th>Russian Federation</th>\n",
       "      <td>5</td>\n",
       "      <td>18534</td>\n",
       "      <td>18301</td>\n",
       "      <td>34266</td>\n",
       "      <td>12422</td>\n",
       "      <td>1.85</td>\n",
       "      <td>57</td>\n",
       "      <td>30709000000</td>\n",
       "      <td>214</td>\n",
       "      <td>17.28868</td>\n",
       "      <td>1.385793e+12</td>\n",
       "      <td>1.504071e+12</td>\n",
       "      <td>1.583004e+12</td>\n",
       "      <td>1.459199e+12</td>\n",
       "      <td>1.524917e+12</td>\n",
       "      <td>1.589943e+12</td>\n",
       "      <td>1.645876e+12</td>\n",
       "      <td>1.666934e+12</td>\n",
       "      <td>1.678709e+12</td>\n",
       "      <td>1.616149e+12</td>\n",
       "    </tr>\n",
       "    <tr>\n",
       "      <th>Canada</th>\n",
       "      <td>6</td>\n",
       "      <td>17899</td>\n",
       "      <td>17620</td>\n",
       "      <td>215003</td>\n",
       "      <td>40930</td>\n",
       "      <td>12.01</td>\n",
       "      <td>149</td>\n",
       "      <td>10431000000</td>\n",
       "      <td>296</td>\n",
       "      <td>61.94543</td>\n",
       "      <td>1.564469e+12</td>\n",
       "      <td>1.596740e+12</td>\n",
       "      <td>1.612713e+12</td>\n",
       "      <td>1.565145e+12</td>\n",
       "      <td>1.613406e+12</td>\n",
       "      <td>1.664087e+12</td>\n",
       "      <td>1.693133e+12</td>\n",
       "      <td>1.730688e+12</td>\n",
       "      <td>1.773486e+12</td>\n",
       "      <td>1.792609e+12</td>\n",
       "    </tr>\n",
       "    <tr>\n",
       "      <th>Germany</th>\n",
       "      <td>7</td>\n",
       "      <td>17027</td>\n",
       "      <td>16831</td>\n",
       "      <td>140566</td>\n",
       "      <td>27426</td>\n",
       "      <td>8.26</td>\n",
       "      <td>126</td>\n",
       "      <td>13261000000</td>\n",
       "      <td>165</td>\n",
       "      <td>17.90153</td>\n",
       "      <td>3.332891e+12</td>\n",
       "      <td>3.441561e+12</td>\n",
       "      <td>3.478809e+12</td>\n",
       "      <td>3.283340e+12</td>\n",
       "      <td>3.417298e+12</td>\n",
       "      <td>3.542371e+12</td>\n",
       "      <td>3.556724e+12</td>\n",
       "      <td>3.567317e+12</td>\n",
       "      <td>3.624386e+12</td>\n",
       "      <td>3.685556e+12</td>\n",
       "    </tr>\n",
       "    <tr>\n",
       "      <th>India</th>\n",
       "      <td>8</td>\n",
       "      <td>15005</td>\n",
       "      <td>14841</td>\n",
       "      <td>128763</td>\n",
       "      <td>37209</td>\n",
       "      <td>8.58</td>\n",
       "      <td>115</td>\n",
       "      <td>33195000000</td>\n",
       "      <td>26</td>\n",
       "      <td>14.96908</td>\n",
       "      <td>1.265894e+12</td>\n",
       "      <td>1.374865e+12</td>\n",
       "      <td>1.428361e+12</td>\n",
       "      <td>1.549483e+12</td>\n",
       "      <td>1.708459e+12</td>\n",
       "      <td>1.821872e+12</td>\n",
       "      <td>1.924235e+12</td>\n",
       "      <td>2.051982e+12</td>\n",
       "      <td>2.200617e+12</td>\n",
       "      <td>2.367206e+12</td>\n",
       "    </tr>\n",
       "    <tr>\n",
       "      <th>France</th>\n",
       "      <td>9</td>\n",
       "      <td>13153</td>\n",
       "      <td>12973</td>\n",
       "      <td>130632</td>\n",
       "      <td>28601</td>\n",
       "      <td>9.93</td>\n",
       "      <td>114</td>\n",
       "      <td>10597000000</td>\n",
       "      <td>166</td>\n",
       "      <td>17.02028</td>\n",
       "      <td>2.607840e+12</td>\n",
       "      <td>2.669424e+12</td>\n",
       "      <td>2.674637e+12</td>\n",
       "      <td>2.595967e+12</td>\n",
       "      <td>2.646995e+12</td>\n",
       "      <td>2.702032e+12</td>\n",
       "      <td>2.706968e+12</td>\n",
       "      <td>2.722567e+12</td>\n",
       "      <td>2.729632e+12</td>\n",
       "      <td>2.761185e+12</td>\n",
       "    </tr>\n",
       "    <tr>\n",
       "      <th>South Korea</th>\n",
       "      <td>10</td>\n",
       "      <td>11983</td>\n",
       "      <td>11923</td>\n",
       "      <td>114675</td>\n",
       "      <td>22595</td>\n",
       "      <td>9.57</td>\n",
       "      <td>104</td>\n",
       "      <td>11007000000</td>\n",
       "      <td>221</td>\n",
       "      <td>2.279353</td>\n",
       "      <td>9.410199e+11</td>\n",
       "      <td>9.924316e+11</td>\n",
       "      <td>1.020510e+12</td>\n",
       "      <td>1.027730e+12</td>\n",
       "      <td>1.094499e+12</td>\n",
       "      <td>1.134796e+12</td>\n",
       "      <td>1.160809e+12</td>\n",
       "      <td>1.194429e+12</td>\n",
       "      <td>1.234340e+12</td>\n",
       "      <td>1.266580e+12</td>\n",
       "    </tr>\n",
       "    <tr>\n",
       "      <th>Italy</th>\n",
       "      <td>11</td>\n",
       "      <td>10964</td>\n",
       "      <td>10794</td>\n",
       "      <td>111850</td>\n",
       "      <td>26661</td>\n",
       "      <td>10.20</td>\n",
       "      <td>106</td>\n",
       "      <td>6530000000</td>\n",
       "      <td>109</td>\n",
       "      <td>33.66723</td>\n",
       "      <td>2.202170e+12</td>\n",
       "      <td>2.234627e+12</td>\n",
       "      <td>2.211154e+12</td>\n",
       "      <td>2.089938e+12</td>\n",
       "      <td>2.125185e+12</td>\n",
       "      <td>2.137439e+12</td>\n",
       "      <td>2.077184e+12</td>\n",
       "      <td>2.040871e+12</td>\n",
       "      <td>2.033868e+12</td>\n",
       "      <td>2.049316e+12</td>\n",
       "    </tr>\n",
       "    <tr>\n",
       "      <th>Spain</th>\n",
       "      <td>12</td>\n",
       "      <td>9428</td>\n",
       "      <td>9330</td>\n",
       "      <td>123336</td>\n",
       "      <td>23964</td>\n",
       "      <td>13.08</td>\n",
       "      <td>115</td>\n",
       "      <td>4923000000</td>\n",
       "      <td>106</td>\n",
       "      <td>37.96859</td>\n",
       "      <td>1.414823e+12</td>\n",
       "      <td>1.468146e+12</td>\n",
       "      <td>1.484530e+12</td>\n",
       "      <td>1.431475e+12</td>\n",
       "      <td>1.431673e+12</td>\n",
       "      <td>1.417355e+12</td>\n",
       "      <td>1.380216e+12</td>\n",
       "      <td>1.357139e+12</td>\n",
       "      <td>1.375605e+12</td>\n",
       "      <td>1.419821e+12</td>\n",
       "    </tr>\n",
       "    <tr>\n",
       "      <th>Iran</th>\n",
       "      <td>13</td>\n",
       "      <td>8896</td>\n",
       "      <td>8819</td>\n",
       "      <td>57470</td>\n",
       "      <td>19125</td>\n",
       "      <td>6.46</td>\n",
       "      <td>72</td>\n",
       "      <td>9172000000</td>\n",
       "      <td>119</td>\n",
       "      <td>5.707721</td>\n",
       "      <td>3.895523e+11</td>\n",
       "      <td>4.250646e+11</td>\n",
       "      <td>4.289909e+11</td>\n",
       "      <td>4.389208e+11</td>\n",
       "      <td>4.677902e+11</td>\n",
       "      <td>4.853309e+11</td>\n",
       "      <td>4.532569e+11</td>\n",
       "      <td>4.445926e+11</td>\n",
       "      <td>4.639027e+11</td>\n",
       "      <td>NaN</td>\n",
       "    </tr>\n",
       "    <tr>\n",
       "      <th>Australia</th>\n",
       "      <td>14</td>\n",
       "      <td>8831</td>\n",
       "      <td>8725</td>\n",
       "      <td>90765</td>\n",
       "      <td>15606</td>\n",
       "      <td>10.28</td>\n",
       "      <td>107</td>\n",
       "      <td>5386000000</td>\n",
       "      <td>231</td>\n",
       "      <td>11.81081</td>\n",
       "      <td>1.021939e+12</td>\n",
       "      <td>1.060340e+12</td>\n",
       "      <td>1.099644e+12</td>\n",
       "      <td>1.119654e+12</td>\n",
       "      <td>1.142251e+12</td>\n",
       "      <td>1.169431e+12</td>\n",
       "      <td>1.211913e+12</td>\n",
       "      <td>1.241484e+12</td>\n",
       "      <td>1.272520e+12</td>\n",
       "      <td>1.301251e+12</td>\n",
       "    </tr>\n",
       "    <tr>\n",
       "      <th>Brazil</th>\n",
       "      <td>15</td>\n",
       "      <td>8668</td>\n",
       "      <td>8596</td>\n",
       "      <td>60702</td>\n",
       "      <td>14396</td>\n",
       "      <td>7.00</td>\n",
       "      <td>86</td>\n",
       "      <td>12149000000</td>\n",
       "      <td>59</td>\n",
       "      <td>69.64803</td>\n",
       "      <td>1.845080e+12</td>\n",
       "      <td>1.957118e+12</td>\n",
       "      <td>2.056809e+12</td>\n",
       "      <td>2.054215e+12</td>\n",
       "      <td>2.208872e+12</td>\n",
       "      <td>2.295245e+12</td>\n",
       "      <td>2.339209e+12</td>\n",
       "      <td>2.409740e+12</td>\n",
       "      <td>2.412231e+12</td>\n",
       "      <td>2.319423e+12</td>\n",
       "    </tr>\n",
       "  </tbody>\n",
       "</table>\n",
       "</div>"
      ],
      "text/plain": [
       "                    Rank  Documents  Citable documents  Citations  \\\n",
       "Country                                                             \n",
       "China                  1     127050             126767     597237   \n",
       "United States          2      96661              94747     792274   \n",
       "Japan                  3      30504              30287     223024   \n",
       "United Kingdom         4      20944              20357     206091   \n",
       "Russian Federation     5      18534              18301      34266   \n",
       "Canada                 6      17899              17620     215003   \n",
       "Germany                7      17027              16831     140566   \n",
       "India                  8      15005              14841     128763   \n",
       "France                 9      13153              12973     130632   \n",
       "South Korea           10      11983              11923     114675   \n",
       "Italy                 11      10964              10794     111850   \n",
       "Spain                 12       9428               9330     123336   \n",
       "Iran                  13       8896               8819      57470   \n",
       "Australia             14       8831               8725      90765   \n",
       "Brazil                15       8668               8596      60702   \n",
       "\n",
       "                    Self-citations  Citations per document  H index  \\\n",
       "Country                                                               \n",
       "China                       411683                    4.70      138   \n",
       "United States               265436                    8.20      230   \n",
       "Japan                        61554                    7.31      134   \n",
       "United Kingdom               37874                    9.84      139   \n",
       "Russian Federation           12422                    1.85       57   \n",
       "Canada                       40930                   12.01      149   \n",
       "Germany                      27426                    8.26      126   \n",
       "India                        37209                    8.58      115   \n",
       "France                       28601                    9.93      114   \n",
       "South Korea                  22595                    9.57      104   \n",
       "Italy                        26661                   10.20      106   \n",
       "Spain                        23964                   13.08      115   \n",
       "Iran                         19125                    6.46       72   \n",
       "Australia                    15606                   10.28      107   \n",
       "Brazil                       14396                    7.00       86   \n",
       "\n",
       "                   Energy Supply Energy Supply per Capita % Renewable  \\\n",
       "Country                                                                 \n",
       "China               127191000000                       93    19.75491   \n",
       "United States        90838000000                      286    11.57098   \n",
       "Japan                18984000000                      149    10.23282   \n",
       "United Kingdom        7920000000                      124    10.60047   \n",
       "Russian Federation   30709000000                      214    17.28868   \n",
       "Canada               10431000000                      296    61.94543   \n",
       "Germany              13261000000                      165    17.90153   \n",
       "India                33195000000                       26    14.96908   \n",
       "France               10597000000                      166    17.02028   \n",
       "South Korea          11007000000                      221    2.279353   \n",
       "Italy                 6530000000                      109    33.66723   \n",
       "Spain                 4923000000                      106    37.96859   \n",
       "Iran                  9172000000                      119    5.707721   \n",
       "Australia             5386000000                      231    11.81081   \n",
       "Brazil               12149000000                       59    69.64803   \n",
       "\n",
       "                            2006          2007          2008          2009  \\\n",
       "Country                                                                      \n",
       "China               3.992331e+12  4.559041e+12  4.997775e+12  5.459247e+12   \n",
       "United States       1.479230e+13  1.505540e+13  1.501149e+13  1.459484e+13   \n",
       "Japan               5.496542e+12  5.617036e+12  5.558527e+12  5.251308e+12   \n",
       "United Kingdom      2.419631e+12  2.482203e+12  2.470614e+12  2.367048e+12   \n",
       "Russian Federation  1.385793e+12  1.504071e+12  1.583004e+12  1.459199e+12   \n",
       "Canada              1.564469e+12  1.596740e+12  1.612713e+12  1.565145e+12   \n",
       "Germany             3.332891e+12  3.441561e+12  3.478809e+12  3.283340e+12   \n",
       "India               1.265894e+12  1.374865e+12  1.428361e+12  1.549483e+12   \n",
       "France              2.607840e+12  2.669424e+12  2.674637e+12  2.595967e+12   \n",
       "South Korea         9.410199e+11  9.924316e+11  1.020510e+12  1.027730e+12   \n",
       "Italy               2.202170e+12  2.234627e+12  2.211154e+12  2.089938e+12   \n",
       "Spain               1.414823e+12  1.468146e+12  1.484530e+12  1.431475e+12   \n",
       "Iran                3.895523e+11  4.250646e+11  4.289909e+11  4.389208e+11   \n",
       "Australia           1.021939e+12  1.060340e+12  1.099644e+12  1.119654e+12   \n",
       "Brazil              1.845080e+12  1.957118e+12  2.056809e+12  2.054215e+12   \n",
       "\n",
       "                            2010          2011          2012          2013  \\\n",
       "Country                                                                      \n",
       "China               6.039659e+12  6.612490e+12  7.124978e+12  7.672448e+12   \n",
       "United States       1.496437e+13  1.520402e+13  1.554216e+13  1.577367e+13   \n",
       "Japan               5.498718e+12  5.473738e+12  5.569102e+12  5.644659e+12   \n",
       "United Kingdom      2.403504e+12  2.450911e+12  2.479809e+12  2.533370e+12   \n",
       "Russian Federation  1.524917e+12  1.589943e+12  1.645876e+12  1.666934e+12   \n",
       "Canada              1.613406e+12  1.664087e+12  1.693133e+12  1.730688e+12   \n",
       "Germany             3.417298e+12  3.542371e+12  3.556724e+12  3.567317e+12   \n",
       "India               1.708459e+12  1.821872e+12  1.924235e+12  2.051982e+12   \n",
       "France              2.646995e+12  2.702032e+12  2.706968e+12  2.722567e+12   \n",
       "South Korea         1.094499e+12  1.134796e+12  1.160809e+12  1.194429e+12   \n",
       "Italy               2.125185e+12  2.137439e+12  2.077184e+12  2.040871e+12   \n",
       "Spain               1.431673e+12  1.417355e+12  1.380216e+12  1.357139e+12   \n",
       "Iran                4.677902e+11  4.853309e+11  4.532569e+11  4.445926e+11   \n",
       "Australia           1.142251e+12  1.169431e+12  1.211913e+12  1.241484e+12   \n",
       "Brazil              2.208872e+12  2.295245e+12  2.339209e+12  2.409740e+12   \n",
       "\n",
       "                            2014          2015  \n",
       "Country                                         \n",
       "China               8.230121e+12  8.797999e+12  \n",
       "United States       1.615662e+13  1.654857e+13  \n",
       "Japan               5.642884e+12  5.669563e+12  \n",
       "United Kingdom      2.605643e+12  2.666333e+12  \n",
       "Russian Federation  1.678709e+12  1.616149e+12  \n",
       "Canada              1.773486e+12  1.792609e+12  \n",
       "Germany             3.624386e+12  3.685556e+12  \n",
       "India               2.200617e+12  2.367206e+12  \n",
       "France              2.729632e+12  2.761185e+12  \n",
       "South Korea         1.234340e+12  1.266580e+12  \n",
       "Italy               2.033868e+12  2.049316e+12  \n",
       "Spain               1.375605e+12  1.419821e+12  \n",
       "Iran                4.639027e+11           NaN  \n",
       "Australia           1.272520e+12  1.301251e+12  \n",
       "Brazil              2.412231e+12  2.319423e+12  "
      ]
     },
     "execution_count": 138,
     "metadata": {},
     "output_type": "execute_result"
    }
   ],
   "source": [
    "from tabulate import tabulate\n",
    "import re\n",
    "\n",
    "def answer_one():\n",
    "    # YOUR CODE HERE\n",
    "    Energy = pd.read_excel(\"assets/Energy Indicators.xls\", index_col = 1, skiprows=16, skipfooter=38)\n",
    "\n",
    "    Energy = Energy.iloc[:,1:]\n",
    "    \n",
    "\n",
    "    #renaming the units\n",
    "    Energy = Energy.replace('Petajoules', 'Gigajoules')\n",
    "\n",
    "    #renaming the columns\n",
    "    Energy.columns = ['Country', 'Energy Supply', 'Energy Supply per Capita', '% Renewable']\n",
    "    Energy = Energy.replace('...', np.nan)\n",
    "\n",
    "\n",
    "    #Convert Energy supply from petajoule to gigajoule\n",
    "    Energy['Energy Supply'] = Energy['Energy Supply'][1:] * 1000000\n",
    "\n",
    "\n",
    "    #Clean the names\n",
    "\n",
    "    def Clean_names(Country_name):\n",
    "    # Search for opening bracket in the name followed by\n",
    "    # any characters repeated any number of times\n",
    "        Country_name = str(Country_name)\n",
    "        if re.search('\\s\\(.*', Country_name):\n",
    "    \n",
    "            # Extract the position of beginning of pattern\n",
    "            pos = re.search('\\s\\(.*', Country_name).start()\n",
    "    \n",
    "            # return the cleaned name\n",
    "            return Country_name[:pos]\n",
    "\n",
    "        elif re.search('\\d.*', Country_name):\n",
    "    \n",
    "            # Extract the position of beginning of pattern\n",
    "            pos = re.search('\\d.*', Country_name).start()\n",
    "    \n",
    "            # return the cleaned name\n",
    "            return Country_name[:pos]\n",
    "\n",
    "        else:\n",
    "            # if clean up needed return the same name\n",
    "            return Country_name\n",
    "\n",
    "    Energy['Country'] = Energy['Country'].apply(Clean_names)\n",
    "\n",
    "    #Final step in cleaning country name\n",
    "    Energy['Country'] = Energy['Country'].replace(['Iran ','Republic of Korea','United States of America','United Kingdom of Great Britain and Northern Ireland','China, Hong Kong Special Administrative Region'],\n",
    "                                           ['Iran','South Korea','United States','United Kingdom','Hong Kong'])\n",
    "\n",
    "    #set the index of the energy dataframe to Country name\n",
    "    Energy = Energy.set_index('Country')\n",
    "    \n",
    "    \n",
    "  \n",
    "    #read the World_bank data file\n",
    "    GDP = pd.read_csv('assets/world_bank.csv',  skiprows=4)\n",
    "\n",
    "    #renaming some of the countries\n",
    "    GDP['Country Name'] = GDP['Country Name'].replace(['Korea, Rep.','Iran, Islamic Rep.','Hong Kong SAR, China'],\n",
    "                                            ['South Korea','Iran','Hong Kong'])\n",
    "    \n",
    "    #setting the country name as index\n",
    "    GDP = GDP.set_index('Country Name')\n",
    "    \n",
    "    #removing the gdp columns from 1960 - 2005\n",
    "    GDP.drop(GDP.columns[3:49], axis=1, inplace=True)  \n",
    "\n",
    "    \n",
    "    ScimEn = pd.read_excel(\"assets/scimagojr-3.xlsx\", index_col = 1, skipfooter=176)\n",
    "\n",
    "   \n",
    "\n",
    "    result = pd.concat( [ScimEn, Energy,GDP], axis=1, join=\"inner\")\n",
    "\n",
    "    result.drop(['Country Code', 'Indicator Name', 'Indicator Code'], axis = 1, inplace = True) \n",
    "\n",
    "    result.index = result.index.rename('Country')\n",
    "\n",
    "    result.sort_values(by='Rank', ascending=False)\n",
    "\n",
    "    return result  \n",
    "\n",
    "    \n",
    "    \n",
    "  \n",
    "answer_one()"
   ]
  },
  {
   "cell_type": "code",
   "execution_count": 5,
   "metadata": {
    "deletable": false,
    "editable": false,
    "nbgrader": {
     "checksum": "7bcc18b325d2935427ac2566cddd3661",
     "grade": true,
     "grade_id": "cell-780b5a4da845dbc3",
     "locked": true,
     "points": 5,
     "schema_version": 1,
     "solution": false
    }
   },
   "outputs": [],
   "source": [
    "assert type(answer_one()) == pd.DataFrame, \"Q1: You should return a DataFrame!\"\n",
    "\n",
    "assert answer_one().shape == (15,20), \"Q1: Your DataFrame should have 20 columns and 15 entries!\"\n"
   ]
  },
  {
   "cell_type": "code",
   "execution_count": null,
   "metadata": {
    "deletable": false,
    "editable": false,
    "nbgrader": {
     "checksum": "e241830bcf3f63326b4c9cdf50be8f86",
     "grade": true,
     "grade_id": "cell-74b5f0b971379f64",
     "locked": true,
     "points": 10,
     "schema_version": 1,
     "solution": false
    }
   },
   "outputs": [],
   "source": [
    "# Cell for autograder.\n"
   ]
  },
  {
   "cell_type": "markdown",
   "metadata": {
    "deletable": false,
    "editable": false,
    "nbgrader": {
     "checksum": "596280cd22ed98c5540580c62954ec2f",
     "grade": false,
     "grade_id": "cell-babe0ff2a1fc6b17",
     "locked": true,
     "schema_version": 1,
     "solution": false
    }
   },
   "source": [
    "### Question 2\n",
    "The previous question joined three datasets then reduced this to just the top 15 entries. When you joined the datasets, but before you reduced this to the top 15 items, how many entries did you lose?\n",
    "\n",
    "*This function should return a single number.*"
   ]
  },
  {
   "cell_type": "code",
   "execution_count": 6,
   "metadata": {
    "deletable": false,
    "editable": false,
    "nbgrader": {
     "checksum": "c9a34da81c80126fd23ae2eac33f98f8",
     "grade": false,
     "grade_id": "cell-96f84e7b693bef63",
     "locked": true,
     "schema_version": 1,
     "solution": false
    }
   },
   "outputs": [
    {
     "data": {
      "text/html": [
       "<svg width=\"800\" height=\"300\">\n",
       "  <circle cx=\"150\" cy=\"180\" r=\"80\" fill-opacity=\"0.2\" stroke=\"black\" stroke-width=\"2\" fill=\"blue\" />\n",
       "  <circle cx=\"200\" cy=\"100\" r=\"80\" fill-opacity=\"0.2\" stroke=\"black\" stroke-width=\"2\" fill=\"red\" />\n",
       "  <circle cx=\"100\" cy=\"100\" r=\"80\" fill-opacity=\"0.2\" stroke=\"black\" stroke-width=\"2\" fill=\"green\" />\n",
       "  <line x1=\"150\" y1=\"125\" x2=\"300\" y2=\"150\" stroke=\"black\" stroke-width=\"2\" fill=\"black\" stroke-dasharray=\"5,3\"/>\n",
       "  <text x=\"300\" y=\"165\" font-family=\"Verdana\" font-size=\"35\">Everything but this!</text>\n",
       "</svg>\n"
      ],
      "text/plain": [
       "<IPython.core.display.HTML object>"
      ]
     },
     "metadata": {},
     "output_type": "display_data"
    }
   ],
   "source": [
    "%%HTML\n",
    "<svg width=\"800\" height=\"300\">\n",
    "  <circle cx=\"150\" cy=\"180\" r=\"80\" fill-opacity=\"0.2\" stroke=\"black\" stroke-width=\"2\" fill=\"blue\" />\n",
    "  <circle cx=\"200\" cy=\"100\" r=\"80\" fill-opacity=\"0.2\" stroke=\"black\" stroke-width=\"2\" fill=\"red\" />\n",
    "  <circle cx=\"100\" cy=\"100\" r=\"80\" fill-opacity=\"0.2\" stroke=\"black\" stroke-width=\"2\" fill=\"green\" />\n",
    "  <line x1=\"150\" y1=\"125\" x2=\"300\" y2=\"150\" stroke=\"black\" stroke-width=\"2\" fill=\"black\" stroke-dasharray=\"5,3\"/>\n",
    "  <text x=\"300\" y=\"165\" font-family=\"Verdana\" font-size=\"35\">Everything but this!</text>\n",
    "</svg>"
   ]
  },
  {
   "cell_type": "code",
   "execution_count": 151,
   "metadata": {
    "deletable": false,
    "nbgrader": {
     "checksum": "aeeb01fb73054269dd7b818d0945e2f7",
     "grade": false,
     "grade_id": "cell-b0c3202c000aada4",
     "locked": false,
     "schema_version": 1,
     "solution": true
    }
   },
   "outputs": [
    {
     "data": {
      "text/plain": [
       "174"
      ]
     },
     "execution_count": 151,
     "metadata": {},
     "output_type": "execute_result"
    }
   ],
   "source": [
    "def answer_two():\n",
    "    ScimEn = pd.read_excel(\"assets/scimagojr-3.xlsx\", index_col = 1)\n",
    "    #entry_loss = ScimEn.shape[0] - answer_one().shape[0]\n",
    "    ##return entry_loss\n",
    "    # YOUR CODE HERE\n",
    "\n",
    "    energy = pd.read_excel(\"assets/Energy Indicators.xls\", index_col = 1, skiprows=16, skipfooter=38)\n",
    "    GDP =  pd.read_csv('assets/world_bank.csv',  skiprows=4)\n",
    "    GDP = GDP.set_index('Country Name')\n",
    "    GDP.index = GDP.index.rename('Country') \n",
    "    energy.index = energy.index.rename('Country')\n",
    "    \n",
    "    union = pd.merge(pd.merge(energy, GDP, on='Country', how='outer'), ScimEn, on='Country', how='outer')\n",
    "    intersect = pd.merge(pd.merge(energy, GDP, on='Country'), ScimEn, on='Country')\n",
    "    return len(union)-len(intersect)\n",
    "\n",
    "    raise NotImplementedError()\n",
    "answer_two()"
   ]
  },
  {
   "cell_type": "code",
   "execution_count": 8,
   "metadata": {
    "deletable": false,
    "editable": false,
    "nbgrader": {
     "checksum": "19759b4a6c03f34b647f66d343952619",
     "grade": true,
     "grade_id": "cell-be24cfcaa87ab071",
     "locked": true,
     "points": 6.66,
     "schema_version": 1,
     "solution": false
    }
   },
   "outputs": [],
   "source": [
    "assert type(answer_two()) == int, \"Q2: You should return an int number!\"\n"
   ]
  },
  {
   "cell_type": "markdown",
   "metadata": {
    "deletable": false,
    "editable": false,
    "nbgrader": {
     "checksum": "5af1b4f99cd383263130f4c00442a133",
     "grade": false,
     "grade_id": "cell-2e54816014e48c18",
     "locked": true,
     "schema_version": 1,
     "solution": false
    }
   },
   "source": [
    "### Question 3\n",
    "What are the top 15 countries for average GDP over the last 10 years?\n",
    "\n",
    "*This function should return a Series named `avgGDP` with 15 countries and their average GDP sorted in descending order.*"
   ]
  },
  {
   "cell_type": "code",
   "execution_count": 150,
   "metadata": {
    "deletable": false,
    "nbgrader": {
     "checksum": "a3490fd71a46cecfa3da698e006fe729",
     "grade": false,
     "grade_id": "cell-8c3d74335c0d489a",
     "locked": false,
     "schema_version": 1,
     "solution": true
    }
   },
   "outputs": [
    {
     "data": {
      "text/plain": [
       "Country\n",
       "United States         1.536434e+13\n",
       "China                 6.348609e+12\n",
       "Japan                 5.542208e+12\n",
       "Germany               3.493025e+12\n",
       "France                2.681725e+12\n",
       "United Kingdom        2.487907e+12\n",
       "Brazil                2.189794e+12\n",
       "Italy                 2.120175e+12\n",
       "India                 1.769297e+12\n",
       "Canada                1.660647e+12\n",
       "Russian Federation    1.565459e+12\n",
       "Spain                 1.418078e+12\n",
       "Australia             1.164043e+12\n",
       "South Korea           1.106715e+12\n",
       "Iran                  4.441558e+11\n",
       "Name: avgGDP, dtype: float64"
      ]
     },
     "execution_count": 150,
     "metadata": {},
     "output_type": "execute_result"
    }
   ],
   "source": [
    "def answer_three():\n",
    "    '''\n",
    "    Top15 = answer_one()\n",
    "\n",
    "    GDP = pd.read_csv('assets/world_bank.csv',  skiprows=4)\n",
    "\n",
    "    #renaming some of the countries\n",
    "    GDP['Country Name'] = GDP['Country Name'].replace(['Korea, Rep.','Iran, Islamic Rep.','Hong Kong SAR, China'],\n",
    "                                            ['South Korea','Iran','Hong Kong'])\n",
    "    \n",
    "    #setting the country name as index\n",
    "    GDP = GDP.set_index('Country Name')\n",
    "    \n",
    "    #removing the gdp columns from 1960 - 2005\n",
    "    GDP.drop(GDP.columns[3:49], axis=1, inplace=True)  \n",
    "\n",
    "    #sets target columns in dataframe to be from the 2006 t0 2015 column\n",
    "    col = GDP.loc[: , \"2006\":\"2015\"]\n",
    "\n",
    "    #calculates the mean of each row \n",
    "    Top15['avgGDP'] = col.mean(axis=1)\n",
    "\n",
    "    #sorts the values in descending order\n",
    "    Top15 = Top15.sort_values(by=\"avgGDP\", ascending=False).head(15)\n",
    "    \n",
    "    #selects the last column in the dataframe which should be the average gdp\n",
    "    series = Top15.iloc[:,-1]\n",
    "    \n",
    "    return series\n",
    "    '''\n",
    "  \n",
    "    Top15 = answer_one()\n",
    "    rows = ['2006', '2007', '2008',\n",
    "           '2009', '2010', '2011', '2012', '2013', '2014', '2015']\n",
    "    Top15[\"avgGDP\"] = answer_one()[rows].mean(axis=1)\n",
    "    return Top15.sort_values(\"avgGDP\",ascending=False)[\"avgGDP\"]\n",
    "    \n",
    "    \n",
    "    \n",
    "    \n",
    "    # YOUR CODE HERE\n",
    "    raise NotImplementedError()\n",
    "answer_three()"
   ]
  },
  {
   "cell_type": "code",
   "execution_count": 82,
   "metadata": {
    "deletable": false,
    "editable": false,
    "nbgrader": {
     "checksum": "2f9c90ee07138f94c027c5d2f907ab13",
     "grade": true,
     "grade_id": "cell-aaaa11ef7d26f4cf",
     "locked": true,
     "points": 6.66,
     "schema_version": 1,
     "solution": false
    }
   },
   "outputs": [],
   "source": [
    "assert type(answer_three()) == pd.Series, \"Q3: You should return a Series!\"\n"
   ]
  },
  {
   "cell_type": "markdown",
   "metadata": {
    "deletable": false,
    "editable": false,
    "locked": true
   },
   "source": [
    "### Question 4\n",
    "By how much had the GDP changed over the 10 year span for the country with the 6th largest average GDP?\n",
    "\n",
    "*This function should return a single number.*"
   ]
  },
  {
   "cell_type": "code",
   "execution_count": 152,
   "metadata": {
    "deletable": false,
    "nbgrader": {
     "checksum": "768a19bcc8adc6991fe5c757e95ba784",
     "grade": false,
     "grade_id": "cell-7f77d099e3e0bbee",
     "locked": false,
     "schema_version": 1,
     "solution": true
    }
   },
   "outputs": [
    {
     "data": {
      "text/plain": [
       "246702696075.3999"
      ]
     },
     "execution_count": 152,
     "metadata": {},
     "output_type": "execute_result"
    }
   ],
   "source": [
    "def answer_four():\n",
    "    # YOUR CODE HERE\n",
    "    GDP = pd.read_csv('assets/world_bank.csv',  skiprows=4)\n",
    "\n",
    "    #renaming some of the countries\n",
    "    GDP['Country Name'] = GDP['Country Name'].replace(['Korea, Rep.','Iran, Islamic Rep.','Hong Kong SAR, China'],\n",
    "                                            ['South Korea','Iran','Hong Kong'])\n",
    "    \n",
    "    #setting the country name as index\n",
    "    GDP = GDP.set_index('Country Name')\n",
    "    \n",
    "    #removing the gdp columns from 1960 - 2005\n",
    "    GDP.drop(GDP.columns[3:49], axis=1, inplace=True)\n",
    "    \n",
    "    #sets avgGDP_6 to the 6th entry in the sorted dataframe from Q3\n",
    "    avgGDP_6 = answer_three().index[5]\n",
    "\n",
    "    #Convert the data to a series\n",
    "    avgGDP_6_data = GDP.loc[avgGDP_6]\n",
    "\n",
    "    #subtracts the last entry in series from the first\n",
    "    GDP_change = avgGDP_6_data[-1]-avgGDP_6_data[-10]\n",
    "    \n",
    "    return GDP_change\n",
    "answer_four()"
   ]
  },
  {
   "cell_type": "code",
   "execution_count": null,
   "metadata": {
    "deletable": false,
    "editable": false,
    "nbgrader": {
     "checksum": "a7770c49cdfac4fa6368dfe8b39e6474",
     "grade": true,
     "grade_id": "cell-564dd8e5e24b0f83",
     "locked": true,
     "points": 6.66,
     "schema_version": 1,
     "solution": false
    }
   },
   "outputs": [],
   "source": [
    "# Cell for autograder.\n"
   ]
  },
  {
   "cell_type": "markdown",
   "metadata": {
    "deletable": false,
    "editable": false,
    "nbgrader": {
     "checksum": "ed6dbc94ff1b6268873413fee12741cd",
     "grade": false,
     "grade_id": "cell-617669111e38ca15",
     "locked": true,
     "schema_version": 1,
     "solution": false
    }
   },
   "source": [
    "### Question 5\n",
    "What is the mean energy supply per capita?\n",
    "\n",
    "*This function should return a single number.*"
   ]
  },
  {
   "cell_type": "code",
   "execution_count": 26,
   "metadata": {
    "deletable": false,
    "nbgrader": {
     "checksum": "cfd61a1735889e7ef20692ca0d28ddcb",
     "grade": false,
     "grade_id": "cell-58e79d558e982eef",
     "locked": false,
     "schema_version": 1,
     "solution": true
    }
   },
   "outputs": [
    {
     "name": "stdout",
     "output_type": "stream",
     "text": [
      "157.6\n"
     ]
    }
   ],
   "source": [
    "def answer_five():\n",
    "    # YOUR CODE HERE\n",
    "    avg_energy_supply_per_capita =  answer_one()['Energy Supply per Capita'].mean()\n",
    "    return avg_energy_supply_per_capita\n",
    "\n",
    "answer_five()\n",
    "    #raise NotImplementedError()"
   ]
  },
  {
   "cell_type": "code",
   "execution_count": null,
   "metadata": {
    "deletable": false,
    "editable": false,
    "nbgrader": {
     "checksum": "9d61bf22656baeecc77f63d54448590e",
     "grade": true,
     "grade_id": "cell-30cc66180851638c",
     "locked": true,
     "points": 6.66,
     "schema_version": 1,
     "solution": false
    }
   },
   "outputs": [],
   "source": [
    "# Cell for autograder.\n"
   ]
  },
  {
   "cell_type": "markdown",
   "metadata": {
    "deletable": false,
    "editable": false,
    "nbgrader": {
     "checksum": "2c7a163ae96f56317756456b0d9d695b",
     "grade": false,
     "grade_id": "cell-5c11ddd12fd71b3f",
     "locked": true,
     "schema_version": 1,
     "solution": false
    }
   },
   "source": [
    "### Question 6\n",
    "What country has the maximum % Renewable and what is the percentage?\n",
    "\n",
    "*This function should return a tuple with the name of the country and the percentage.*"
   ]
  },
  {
   "cell_type": "code",
   "execution_count": 44,
   "metadata": {
    "deletable": false,
    "nbgrader": {
     "checksum": "f8657f18c77eb0f752bca3cc48561da3",
     "grade": false,
     "grade_id": "cell-b6824b78e74619f9",
     "locked": false,
     "schema_version": 1,
     "solution": true
    }
   },
   "outputs": [
    {
     "data": {
      "text/plain": [
       "('Brazil', 69.64803)"
      ]
     },
     "execution_count": 44,
     "metadata": {},
     "output_type": "execute_result"
    }
   ],
   "source": [
    "def answer_six():\n",
    "\n",
    "   #sets max_renewable to the maximum value in the % Renewable column\n",
    "   max_renewable = answer_one()['% Renewable'].max()\n",
    "   \n",
    "   #locate the index value for the row which has the max_renewable value\n",
    "   Country_max_renewable = answer_one()[answer_one()['% Renewable']==max_renewable].index.values\n",
    "   \n",
    "   #Select the first item in the array from the result above, and converts to a string\n",
    "   Country = str(Country_max_renewable[0]) \n",
    "\n",
    "   #Sets the result to a tuple of the country name and its corresponding percentage\n",
    "   result = (Country,max_renewable)\n",
    "   return result\n",
    "   #raise NotImplementedError()\n",
    "\n",
    "answer_six()"
   ]
  },
  {
   "cell_type": "code",
   "execution_count": 40,
   "metadata": {
    "deletable": false,
    "editable": false,
    "nbgrader": {
     "checksum": "f8b28b0a824a3b76a6244c1273648ccd",
     "grade": true,
     "grade_id": "cell-2bd201c5c7bdd80f",
     "locked": true,
     "points": 6.66,
     "schema_version": 1,
     "solution": false
    }
   },
   "outputs": [],
   "source": [
    "assert type(answer_six()) == tuple, \"Q6: You should return a tuple!\"\n",
    "\n",
    "assert type(answer_six()[0]) == str, \"Q6: The first element in your result should be the name of the country!\"\n"
   ]
  },
  {
   "cell_type": "markdown",
   "metadata": {
    "deletable": false,
    "editable": false,
    "nbgrader": {
     "checksum": "a7b561a486a28ee4ba80a40715617c6d",
     "grade": false,
     "grade_id": "cell-ddf52a85ad3d5a11",
     "locked": true,
     "schema_version": 1,
     "solution": false
    }
   },
   "source": [
    "### Question 7\n",
    "Create a new column that is the ratio of Self-Citations to Total Citations. \n",
    "What is the maximum value for this new column, and what country has the highest ratio?\n",
    "\n",
    "*This function should return a tuple with the name of the country and the ratio.*"
   ]
  },
  {
   "cell_type": "code",
   "execution_count": 90,
   "metadata": {
    "deletable": false,
    "nbgrader": {
     "checksum": "e4b1cc5e3deefd24be992fbee18d0e74",
     "grade": false,
     "grade_id": "cell-a4f39737f38aa53c",
     "locked": false,
     "schema_version": 1,
     "solution": true
    }
   },
   "outputs": [
    {
     "data": {
      "text/plain": [
       "('China', 0.6893126179389422)"
      ]
     },
     "execution_count": 90,
     "metadata": {},
     "output_type": "execute_result"
    }
   ],
   "source": [
    "def answer_seven():\n",
    "\n",
    "    #imports the dataframe from answer_one\n",
    "    df = answer_one()\n",
    "\n",
    "    #perform an operation on the two required columns and create a column for the result\n",
    "    df['Ratio_SC_TC']= (df['Self-citations']/df['Citations'])\n",
    "\n",
    "    #Sets max_ratio to the max value \n",
    "    max_ratio = df['Ratio_SC_TC'].max()\n",
    "\n",
    "    #Get the index value of max_ratio\n",
    "    Country = df[df['Ratio_SC_TC']== max_ratio].index.values\n",
    "\n",
    "    #Get the value in the array and convert to a string\n",
    "    Country = str(Country[0])\n",
    "\n",
    "    return (Country,max_ratio)\n",
    "\n",
    "\n",
    "\n",
    "\n",
    "\n",
    "    # YOUR CODE HERE\n",
    "    #raise NotImplementedError()\n",
    "answer_seven()"
   ]
  },
  {
   "cell_type": "code",
   "execution_count": 91,
   "metadata": {
    "deletable": false,
    "editable": false,
    "nbgrader": {
     "checksum": "ca448b3a16b65a3a08533cac736cc4d9",
     "grade": true,
     "grade_id": "cell-b7a163e9231b88c9",
     "locked": true,
     "points": 6.66,
     "schema_version": 1,
     "solution": false
    }
   },
   "outputs": [],
   "source": [
    "assert type(answer_seven()) == tuple, \"Q7: You should return a tuple!\"\n",
    "\n",
    "assert type(answer_seven()[0]) == str, \"Q7: The first element in your result should be the name of the country!\"\n"
   ]
  },
  {
   "cell_type": "markdown",
   "metadata": {
    "deletable": false,
    "editable": false,
    "nbgrader": {
     "checksum": "7be7b86ee7467539dd88746818c78c0e",
     "grade": false,
     "grade_id": "cell-5c89296ab6f94218",
     "locked": true,
     "schema_version": 1,
     "solution": false
    }
   },
   "source": [
    "### Question 8\n",
    "\n",
    "Create a column that estimates the population using Energy Supply and Energy Supply per capita. \n",
    "What is the third most populous country according to this estimate?\n",
    "\n",
    "*This function should return the name of the country*"
   ]
  },
  {
   "cell_type": "code",
   "execution_count": 99,
   "metadata": {
    "deletable": false,
    "nbgrader": {
     "checksum": "9d733b2abf089b1931e2e792ff51d488",
     "grade": false,
     "grade_id": "cell-9ca58137846b84d6",
     "locked": false,
     "schema_version": 1,
     "solution": true
    }
   },
   "outputs": [
    {
     "data": {
      "text/plain": [
       "'United States'"
      ]
     },
     "execution_count": 99,
     "metadata": {},
     "output_type": "execute_result"
    }
   ],
   "source": [
    "def answer_eight():\n",
    "    #imports the dataframe from answer_one\n",
    "    df = answer_one()\n",
    "\n",
    "     #perform an operation on the two required columns and create a column for the result\n",
    "    df['PopEst']= (df['Energy Supply']/df['Energy Supply per Capita'])\n",
    "\n",
    "    #Sort the values of the population estimate  \n",
    "    df = df.sort_values(by=\"PopEst\", ascending=False)\n",
    "\n",
    "    #Return the 3rd index\n",
    "    return df.index[2]\n",
    "\n",
    "\n",
    "answer_eight()\n",
    "    #raise NotImplementedError()"
   ]
  },
  {
   "cell_type": "code",
   "execution_count": 100,
   "metadata": {
    "deletable": false,
    "editable": false,
    "nbgrader": {
     "checksum": "ba2ad50cf8198767b0bd2f75b8d97e87",
     "grade": true,
     "grade_id": "cell-3f3620c88df08b20",
     "locked": true,
     "points": 0,
     "schema_version": 1,
     "solution": false
    }
   },
   "outputs": [],
   "source": [
    "assert type(answer_eight()) == str, \"Q8: You should return the name of the country!\"\n"
   ]
  },
  {
   "cell_type": "markdown",
   "metadata": {
    "deletable": false,
    "editable": false,
    "nbgrader": {
     "checksum": "164cba98164a1045db7de10dd37115c8",
     "grade": false,
     "grade_id": "cell-2065207e66e5ec01",
     "locked": true,
     "schema_version": 1,
     "solution": false
    }
   },
   "source": [
    "### Question 9\n",
    "Create a column that estimates the number of citable documents per person. \n",
    "What is the correlation between the number of citable documents per capita and the energy supply per capita? Use the `.corr()` method, (Pearson's correlation).\n",
    "\n",
    "*This function should return a single number.*\n",
    "\n",
    "*(Optional: Use the built-in function `plot9()` to visualize the relationship between Energy Supply per Capita vs. Citable docs per Capita)*"
   ]
  },
  {
   "cell_type": "code",
   "execution_count": 110,
   "metadata": {
    "deletable": false,
    "nbgrader": {
     "checksum": "94e06c4c3a9618b94dbb0e86913b546c",
     "grade": false,
     "grade_id": "cell-033679ea456bfb9d",
     "locked": false,
     "schema_version": 1,
     "solution": true
    }
   },
   "outputs": [
    {
     "data": {
      "text/plain": [
       "0.7940010435442946"
      ]
     },
     "execution_count": 110,
     "metadata": {},
     "output_type": "execute_result"
    }
   ],
   "source": [
    "def answer_nine():\n",
    "    df = answer_one()\n",
    "    df['PopEst']= (df['Energy Supply']/df['Energy Supply per Capita'])\n",
    "    df['Citable docs per Capita'] = (df['Citable documents']/df['PopEst'])\n",
    "    df['Citable docs per Capita'] = np.float64(df['Citable docs per Capita'])\n",
    "    df['Energy Supply per Capita'] = np.float64(df['Energy Supply per Capita'])\n",
    "\n",
    "    corr = df['Citable docs per Capita'].corr(df['Energy Supply per Capita'])\n",
    "    return corr\n",
    "    #raise NotImplementedError()\n",
    "\n",
    "answer_nine()"
   ]
  },
  {
   "cell_type": "code",
   "execution_count": 112,
   "metadata": {
    "deletable": false,
    "editable": false,
    "nbgrader": {
     "checksum": "01a146bbcca0fa9c9c13e71ab52e710f",
     "grade": false,
     "grade_id": "cell-644824f6c708bf80",
     "locked": true,
     "schema_version": 1,
     "solution": false
    }
   },
   "outputs": [
    {
     "data": {
      "image/png": "[encoded data removed]",
      "text/plain": [
       "<Figure size 432x288 with 1 Axes>"
      ]
     },
     "metadata": {
      "needs_background": "light"
     },
     "output_type": "display_data"
    }
   ],
   "source": [
    "def plot9():\n",
    "    import matplotlib as plt\n",
    "    %matplotlib inline\n",
    "    \n",
    "    Top15 = answer_one()\n",
    "    Top15['PopEst'] = Top15['Energy Supply'] / Top15['Energy Supply per Capita']\n",
    "    Top15['Citable docs per Capita'] = Top15['Citable documents'] / Top15['PopEst']\n",
    "    Top15.plot(x='Citable docs per Capita', y='Energy Supply per Capita', kind='scatter', xlim=[0, 0.0006])\n",
    "\n",
    "plot9()"
   ]
  },
  {
   "cell_type": "code",
   "execution_count": 113,
   "metadata": {
    "deletable": false,
    "editable": false,
    "nbgrader": {
     "checksum": "8dced1dde88b6877f89bdec482870476",
     "grade": true,
     "grade_id": "cell-3cb5c699065a4a20",
     "locked": true,
     "points": 6.66,
     "schema_version": 1,
     "solution": false
    }
   },
   "outputs": [],
   "source": [
    "assert answer_nine() >= -1. and answer_nine() <= 1., \"Q9: A valid correlation should between -1 to 1!\"\n"
   ]
  },
  {
   "cell_type": "markdown",
   "metadata": {
    "deletable": false,
    "editable": false,
    "nbgrader": {
     "checksum": "8af5ffad89be1e5c6292438724d6f8d5",
     "grade": false,
     "grade_id": "cell-ad09765e29b91157",
     "locked": true,
     "schema_version": 1,
     "solution": false
    }
   },
   "source": [
    "### Question 10\n",
    "Create a new column with a 1 if the country's % Renewable value is at or above the median for all countries in the top 15, and a 0 if the country's % Renewable value is below the median.\n",
    "\n",
    "*This function should return a series named `HighRenew` whose index is the country name sorted in ascending order of rank.*"
   ]
  },
  {
   "cell_type": "code",
   "execution_count": 153,
   "metadata": {
    "deletable": false,
    "nbgrader": {
     "checksum": "340c06bd50a9a027a2190674cfb981b9",
     "grade": false,
     "grade_id": "cell-0fdf60e64bf1a4f9",
     "locked": false,
     "schema_version": 1,
     "solution": true
    }
   },
   "outputs": [
    {
     "data": {
      "text/plain": [
       "Country\n",
       "China                 1\n",
       "United States         0\n",
       "Japan                 0\n",
       "United Kingdom        0\n",
       "Russian Federation    1\n",
       "Canada                1\n",
       "Germany               1\n",
       "India                 0\n",
       "France                0\n",
       "South Korea           0\n",
       "Italy                 1\n",
       "Spain                 1\n",
       "Iran                  0\n",
       "Australia             0\n",
       "Brazil                1\n",
       "Name: HighRenew, dtype: int64"
      ]
     },
     "execution_count": 153,
     "metadata": {},
     "output_type": "execute_result"
    }
   ],
   "source": [
    "def answer_ten():\n",
    "    # YOUR CODE HERE\n",
    "    median =  answer_one()['% Renewable'].median()\n",
    "    df = answer_one()\n",
    "\n",
    "    def get_value(x):\n",
    "        if x > median:\n",
    "            return 1\n",
    "        elif x <= median:\n",
    "            return 0 \n",
    "        \n",
    "\n",
    "\n",
    "    df['HighRenew'] = df['% Renewable'].apply(lambda x: get_value(x))\n",
    "    \n",
    "\n",
    "    df = df.sort_values(by = \"Rank\", ascending=True).head(15)\n",
    "    \n",
    "    return df['HighRenew']\n",
    "    #raise NotImplementedError()\n",
    "answer_ten()"
   ]
  },
  {
   "cell_type": "code",
   "execution_count": 150,
   "metadata": {
    "deletable": false,
    "editable": false,
    "nbgrader": {
     "checksum": "f624e6996eca5796eaf27fb4d0593175",
     "grade": true,
     "grade_id": "cell-b29a631fd9a7730f",
     "locked": true,
     "points": 6.66,
     "schema_version": 1,
     "solution": false
    }
   },
   "outputs": [
    {
     "name": "stdout",
     "output_type": "stream",
     "text": [
      "17.02028\n"
     ]
    }
   ],
   "source": [
    "assert type(answer_ten()) == pd.Series, \"Q10: You should return a Series!\"\n"
   ]
  },
  {
   "cell_type": "markdown",
   "metadata": {
    "deletable": false,
    "editable": false,
    "nbgrader": {
     "checksum": "52f682e7066791c34cd3b2402855cbf5",
     "grade": false,
     "grade_id": "cell-677c51ba711c3af7",
     "locked": true,
     "schema_version": 1,
     "solution": false
    }
   },
   "source": [
    "### Question 11\n",
    "Use the following dictionary to group the Countries by Continent, then create a DataFrame that displays the sample size (the number of countries in each continent bin), and the sum, mean, and std deviation for the estimated population of each country.\n",
    "\n",
    "```python\n",
    "ContinentDict  = {'China':'Asia', \n",
    "                  'United States':'North America', \n",
    "                  'Japan':'Asia', \n",
    "                  'United Kingdom':'Europe', \n",
    "                  'Russian Federation':'Europe', \n",
    "                  'Canada':'North America', \n",
    "                  'Germany':'Europe', \n",
    "                  'India':'Asia',\n",
    "                  'France':'Europe', \n",
    "                  'South Korea':'Asia', \n",
    "                  'Italy':'Europe', \n",
    "                  'Spain':'Europe', \n",
    "                  'Iran':'Asia',\n",
    "                  'Australia':'Australia', \n",
    "                  'Brazil':'South America'}\n",
    "```\n",
    "\n",
    "*This function should return a DataFrame with index named Continent `['Asia', 'Australia', 'Europe', 'North America', 'South America']` and columns `['size', 'sum', 'mean', 'std']`*"
   ]
  },
  {
   "cell_type": "code",
   "execution_count": 333,
   "metadata": {
    "deletable": false,
    "nbgrader": {
     "checksum": "b55846bc20cd01b0acbcb776504a766d",
     "grade": false,
     "grade_id": "cell-a5e0c0df27304f98",
     "locked": false,
     "schema_version": 1,
     "solution": true
    }
   },
   "outputs": [
    {
     "data": {
      "text/html": [
       "<div>\n",
       "<style scoped>\n",
       "    .dataframe tbody tr th:only-of-type {\n",
       "        vertical-align: middle;\n",
       "    }\n",
       "\n",
       "    .dataframe tbody tr th {\n",
       "        vertical-align: top;\n",
       "    }\n",
       "\n",
       "    .dataframe thead th {\n",
       "        text-align: right;\n",
       "    }\n",
       "</style>\n",
       "<table border=\"1\" class=\"dataframe\">\n",
       "  <thead>\n",
       "    <tr style=\"text-align: right;\">\n",
       "      <th></th>\n",
       "      <th>size</th>\n",
       "      <th>sum</th>\n",
       "      <th>mean</th>\n",
       "      <th>std</th>\n",
       "    </tr>\n",
       "  </thead>\n",
       "  <tbody>\n",
       "    <tr>\n",
       "      <th>Asia</th>\n",
       "      <td>5.0</td>\n",
       "      <td>2.898666e+09</td>\n",
       "      <td>5.797333e+08</td>\n",
       "      <td>6.790979e+08</td>\n",
       "    </tr>\n",
       "    <tr>\n",
       "      <th>Australia</th>\n",
       "      <td>1.0</td>\n",
       "      <td>2.331602e+07</td>\n",
       "      <td>2.331602e+07</td>\n",
       "      <td>NaN</td>\n",
       "    </tr>\n",
       "    <tr>\n",
       "      <th>Europe</th>\n",
       "      <td>6.0</td>\n",
       "      <td>4.579297e+08</td>\n",
       "      <td>7.632161e+07</td>\n",
       "      <td>3.464767e+07</td>\n",
       "    </tr>\n",
       "    <tr>\n",
       "      <th>North America</th>\n",
       "      <td>2.0</td>\n",
       "      <td>3.528552e+08</td>\n",
       "      <td>1.764276e+08</td>\n",
       "      <td>1.996696e+08</td>\n",
       "    </tr>\n",
       "    <tr>\n",
       "      <th>South America</th>\n",
       "      <td>1.0</td>\n",
       "      <td>2.059153e+08</td>\n",
       "      <td>2.059153e+08</td>\n",
       "      <td>NaN</td>\n",
       "    </tr>\n",
       "  </tbody>\n",
       "</table>\n",
       "</div>"
      ],
      "text/plain": [
       "               size           sum          mean           std\n",
       "Asia            5.0  2.898666e+09  5.797333e+08  6.790979e+08\n",
       "Australia       1.0  2.331602e+07  2.331602e+07           NaN\n",
       "Europe          6.0  4.579297e+08  7.632161e+07  3.464767e+07\n",
       "North America   2.0  3.528552e+08  1.764276e+08  1.996696e+08\n",
       "South America   1.0  2.059153e+08  2.059153e+08           NaN"
      ]
     },
     "execution_count": 333,
     "metadata": {},
     "output_type": "execute_result"
    }
   ],
   "source": [
    "def answer_eleven():\n",
    "    # YOUR CODE HERE\n",
    "\n",
    "    df = answer_one()\n",
    "\n",
    "    \n",
    "\n",
    "    ContinentDict  = {'China':'Asia', 'United States':'North America', \n",
    "                        'Japan':'Asia', 'United Kingdom':'Europe', \n",
    "                        'Russian Federation':'Europe', 'Canada':'North America', \n",
    "                        'Germany':'Europe', 'India':'Asia', 'France':'Europe', \n",
    "                        'South Korea':'Asia', 'Italy':'Europe', 'Spain':'Europe', \n",
    "                        'Iran':'Asia', 'Australia':'Australia', 'Brazil':'South America'}\n",
    "\n",
    "    groups = pd.DataFrame(columns = ['size', 'sum', 'mean', 'std'])\n",
    "    df['Estimate Population'] = df['Energy Supply'] / df['Energy Supply per Capita']\n",
    "    for group, frame in df.groupby(ContinentDict):\n",
    "        groups.loc[group] = [len(frame), frame['Estimate Population'].sum(),frame['Estimate Population'].mean(),frame['Estimate Population'].std()]\n",
    "    return groups\n",
    "\n",
    "\n",
    "answer_eleven()\n",
    "\n"
   ]
  },
  {
   "cell_type": "code",
   "execution_count": 334,
   "metadata": {
    "deletable": false,
    "editable": false,
    "nbgrader": {
     "checksum": "233318097d9c94fdc87395c967da14c4",
     "grade": true,
     "grade_id": "cell-18d1a07971b25743",
     "locked": true,
     "points": 6.66,
     "schema_version": 1,
     "solution": false
    }
   },
   "outputs": [],
   "source": [
    "assert type(answer_eleven()) == pd.DataFrame, \"Q11: You should return a DataFrame!\"\n",
    "\n",
    "assert answer_eleven().shape[0] == 5, \"Q11: Wrong row numbers!\"\n",
    "\n",
    "assert answer_eleven().shape[1] == 4, \"Q11: Wrong column numbers!\"\n"
   ]
  },
  {
   "cell_type": "markdown",
   "metadata": {
    "deletable": false,
    "editable": false,
    "nbgrader": {
     "checksum": "78d9dbb8ff6e0a1ac1e0d16e026a7d98",
     "grade": false,
     "grade_id": "cell-fa26f5c1eac39c6c",
     "locked": true,
     "schema_version": 1,
     "solution": false
    }
   },
   "source": [
    "### Question 12\n",
    "Cut % Renewable into 5 bins. Group Top15 by the Continent, as well as these new % Renewable bins. How many countries are in each of these groups?\n",
    "\n",
    "*This function should return a Series with a MultiIndex of `Continent`, then the bins for `% Renewable`. Do not include groups with no countries.*"
   ]
  },
  {
   "cell_type": "code",
   "execution_count": 165,
   "metadata": {
    "deletable": false,
    "nbgrader": {
     "checksum": "27eb27ec7a3347530174f7047288a881",
     "grade": false,
     "grade_id": "cell-2ecd9a4076abd8f0",
     "locked": false,
     "schema_version": 1,
     "solution": true
    }
   },
   "outputs": [
    {
     "data": {
      "text/plain": [
       "Continent      % Renewable     \n",
       "Asia           (2.212, 15.753]     4.0\n",
       "               (15.753, 29.227]    1.0\n",
       "Australia      (2.212, 15.753]     1.0\n",
       "Europe         (2.212, 15.753]     1.0\n",
       "               (15.753, 29.227]    3.0\n",
       "               (29.227, 42.701]    2.0\n",
       "North America  (2.212, 15.753]     1.0\n",
       "               (56.174, 69.648]    1.0\n",
       "South America  (56.174, 69.648]    1.0\n",
       "dtype: float64"
      ]
     },
     "execution_count": 165,
     "metadata": {},
     "output_type": "execute_result"
    }
   ],
   "source": [
    "def answer_twelve():\n",
    "    # YOUR CODE HERE\n",
    "\n",
    "    df = answer_one()\n",
    "    df.index = df.index.rename('Continent')\n",
    "    ContinentDict  = {'China':'Asia', \n",
    "                  'United States':'North America', \n",
    "                  'Japan':'Asia', \n",
    "                  'United Kingdom':'Europe', \n",
    "                  'Russian Federation':'Europe', \n",
    "                  'Canada':'North America', \n",
    "                  'Germany':'Europe', \n",
    "                  'India':'Asia',\n",
    "                  'France':'Europe', \n",
    "                  'South Korea':'Asia', \n",
    "                  'Italy':'Europe', \n",
    "                  'Spain':'Europe', \n",
    "                  'Iran':'Asia',\n",
    "                  'Australia':'Australia', \n",
    "                  'Brazil':'South America'}\n",
    "    df[\"% Renewable\"] = pd.cut(df[\"% Renewable\"], 5)\n",
    "    \n",
    "    \n",
    "    df = df.groupby([ContinentDict, df['% Renewable']]).size()\n",
    "\n",
    "   \n",
    "    for k,i in df.items():\n",
    "        if i == 0:\n",
    "            df.replace(to_replace=i, value=np.nan, inplace=True)\n",
    "            df.dropna(axis=0, inplace=True)\n",
    "    \n",
    "    return df\n",
    "\n",
    "\n",
    "    #return df\n",
    "   \n",
    "answer_twelve()\n",
    "    #raise NotImplementedError()\n"
   ]
  },
  {
   "cell_type": "code",
   "execution_count": 84,
   "metadata": {
    "deletable": false,
    "editable": false,
    "nbgrader": {
     "checksum": "79ed0cf577c7941dc357efd8bf1c5d26",
     "grade": true,
     "grade_id": "cell-6c665602d6babab9",
     "locked": true,
     "points": 6.66,
     "schema_version": 1,
     "solution": false
    }
   },
   "outputs": [],
   "source": [
    "assert type(answer_twelve()) == pd.Series, \"Q12: You should return a Series!\"\n",
    "\n",
    "assert len(answer_twelve()) == 9, \"Q12: Wrong result numbers!\"\n"
   ]
  },
  {
   "cell_type": "markdown",
   "metadata": {
    "deletable": false,
    "editable": false,
    "nbgrader": {
     "checksum": "bdfd9b1bb897304b6337fdc47a05967c",
     "grade": false,
     "grade_id": "cell-4209a10d8f208739",
     "locked": true,
     "schema_version": 1,
     "solution": false
    }
   },
   "source": [
    "### Question 13\n",
    "Convert the Population Estimate series to a string with thousands separator (using commas). Use all significant digits (do not round the results).\n",
    "\n",
    "e.g. 12345678.90 -> 12,345,678.90\n",
    "\n",
    "*This function should return a series `PopEst` whose index is the country name and whose values are the population estimate string*"
   ]
  },
  {
   "cell_type": "code",
   "execution_count": 106,
   "metadata": {
    "deletable": false,
    "nbgrader": {
     "checksum": "1efd09964334b7d6100d81d4b3ead3e9",
     "grade": false,
     "grade_id": "cell-58eb0ee0921d93fb",
     "locked": false,
     "schema_version": 1,
     "solution": true
    }
   },
   "outputs": [
    {
     "data": {
      "text/plain": [
       "Country\n",
       "China                 1,367,645,161.2903225\n",
       "United States          317,615,384.61538464\n",
       "Japan                  127,409,395.97315437\n",
       "United Kingdom         63,870,967.741935484\n",
       "Russian Federation            143,500,000.0\n",
       "Canada                  35,239,864.86486486\n",
       "Germany                 80,369,696.96969697\n",
       "India                 1,276,730,769.2307692\n",
       "France                  63,837,349.39759036\n",
       "South Korea            49,805,429.864253394\n",
       "Italy                  59,908,256.880733944\n",
       "Spain                    46,443,396.2264151\n",
       "Iran                    77,075,630.25210084\n",
       "Australia              23,316,017.316017315\n",
       "Brazil                 205,915,254.23728815\n",
       "Name: PopEst, dtype: object"
      ]
     },
     "execution_count": 106,
     "metadata": {},
     "output_type": "execute_result"
    }
   ],
   "source": [
    "def answer_thirteen():\n",
    "    # YOUR CODE HERE\n",
    "    df = answer_one()\n",
    "    df['PopEst'] = df['Energy Supply'] / df['Energy Supply per Capita']\n",
    "    return df['PopEst'].apply(lambda x: '{:,}'.format(x))\n",
    "    #raise NotImplementedError()\n",
    "answer_thirteen()"
   ]
  },
  {
   "cell_type": "code",
   "execution_count": 107,
   "metadata": {
    "deletable": false,
    "editable": false,
    "nbgrader": {
     "checksum": "e014781df77c7edab2a181d2d943be8f",
     "grade": true,
     "grade_id": "cell-10fee7228cf973f6",
     "locked": true,
     "points": 6.74,
     "schema_version": 1,
     "solution": false
    }
   },
   "outputs": [],
   "source": [
    "assert type(answer_thirteen()) == pd.Series, \"Q13: You should return a Series!\"\n",
    "\n",
    "assert len(answer_thirteen()) == 15, \"Q13: Wrong result numbers!\"\n"
   ]
  },
  {
   "cell_type": "markdown",
   "metadata": {
    "deletable": false,
    "editable": false,
    "nbgrader": {
     "checksum": "61562b9b667bd5efbcec0dcd7becbfaa",
     "grade": false,
     "grade_id": "cell-998b62d4f390ef15",
     "locked": true,
     "schema_version": 1,
     "solution": false
    }
   },
   "source": [
    "### Optional\n",
    "\n",
    "Use the built in function `plot_optional()` to see an example visualization."
   ]
  },
  {
   "cell_type": "code",
   "execution_count": 110,
   "metadata": {
    "deletable": false,
    "editable": false,
    "nbgrader": {
     "checksum": "479786c97cb5f34d07231c6d7c602a47",
     "grade": false,
     "grade_id": "cell-741fd55ea57cd40a",
     "locked": true,
     "schema_version": 1,
     "solution": false
    }
   },
   "outputs": [],
   "source": [
    "def plot_optional():\n",
    "    import matplotlib as plt\n",
    "    %matplotlib inline\n",
    "    Top15 = answer_one()\n",
    "    ax = Top15.plot(x='Rank', y='% Renewable', kind='scatter', \n",
    "                    c=['#e41a1c','#377eb8','#e41a1c','#4daf4a','#4daf4a','#377eb8','#4daf4a','#e41a1c',\n",
    "                       '#4daf4a','#e41a1c','#4daf4a','#4daf4a','#e41a1c','#dede00','#ff7f00'], \n",
    "                    xticks=range(1,16), s=6*Top15['2014']/10**10, alpha=.75, figsize=[16,6]);\n",
    "\n",
    "    for i, txt in enumerate(Top15.index):\n",
    "        ax.annotate(txt, [Top15['Rank'][i], Top15['% Renewable'][i]], ha='center')\n",
    "\n",
    "    print(\"This is an example of a visualization that can be created to help understand the data. \\\n",
    "This is a bubble chart showing % Renewable vs. Rank. The size of the bubble corresponds to the countries' \\\n",
    "2014 GDP, and the color corresponds to the continent.\")"
   ]
  }
 ],
 "metadata": {
  "anaconda-cloud": {},
  "coursera": {
   "schema_names": [
    "mooc_adswpy_1_v2_assignment3"
   ]
  },
  "kernelspec": {
   "display_name": "Python 3.10.4 64-bit",
   "language": "python",
   "name": "python3"
  },
  "language_info": {
   "codemirror_mode": {
    "name": "ipython",
    "version": 3
   },
   "file_extension": ".py",
   "mimetype": "text/x-python",
   "name": "python",
   "nbconvert_exporter": "python",
   "pygments_lexer": "ipython3",
   "version": "3.10.4"
  },
  "vscode": {
   "interpreter": {
    "hash": "369f2c481f4da34e4445cda3fffd2e751bd1c4d706f27375911949ba6bb62e1c"
   }
  }
 },
 "nbformat": 4,
 "nbformat_minor": 4
}
